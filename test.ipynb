{
 "cells": [
  {
   "cell_type": "code",
   "execution_count": 1,
   "metadata": {},
   "outputs": [
    {
     "name": "stderr",
     "output_type": "stream",
     "text": [
      "2024-04-29 18:57:58.658067: E external/local_xla/xla/stream_executor/cuda/cuda_dnn.cc:9261] Unable to register cuDNN factory: Attempting to register factory for plugin cuDNN when one has already been registered\n",
      "2024-04-29 18:57:58.658174: E external/local_xla/xla/stream_executor/cuda/cuda_fft.cc:607] Unable to register cuFFT factory: Attempting to register factory for plugin cuFFT when one has already been registered\n",
      "2024-04-29 18:57:58.659694: E external/local_xla/xla/stream_executor/cuda/cuda_blas.cc:1515] Unable to register cuBLAS factory: Attempting to register factory for plugin cuBLAS when one has already been registered\n",
      "2024-04-29 18:57:58.668722: I tensorflow/core/platform/cpu_feature_guard.cc:182] This TensorFlow binary is optimized to use available CPU instructions in performance-critical operations.\n",
      "To enable the following instructions: AVX2 FMA, in other operations, rebuild TensorFlow with the appropriate compiler flags.\n",
      "2024-04-29 18:57:59.989682: W tensorflow/compiler/tf2tensorrt/utils/py_utils.cc:38] TF-TRT Warning: Could not find TensorRT\n"
     ]
    }
   ],
   "source": [
    "from datasets import load_dataset\n",
    "import pandas as pd\n",
    "import numpy as np\n",
    "from torchvision import datasets, transforms\n",
    "from torch.utils.data import DataLoader\n",
    "from transformers import AutoImageProcessor\n",
    "from torchvision import datasets\n",
    "from torchvision.transforms import ToTensor\n",
    "from torch.utils.data import DataLoader\n",
    "import torch.nn as nn\n",
    "import torch.nn.functional as F\n",
    "import torch.optim as optim\n",
    "import matplotlib.pyplot as plt\n",
    "import numpy as np\n",
    "import pandas as pd\n",
    "from torchvision.transforms import ToPILImage\n",
    "from PIL import Image\n",
    "from sklearn.metrics import classification_report\n",
    "from operator import itemgetter\n",
    "from torchvision.transforms import Resize, Compose, ToTensor, Normalize, RandomResizedCrop\n",
    "from transformers import AutoFeatureExtractor\n",
    "import torchvision.transforms as transforms\n",
    "from torch.utils.data import DataLoader\n",
    "import torchvision.transforms.functional as TF\n",
    "import matplotlib.ticker as ticker\n",
    "from transformers import AutoFeatureExtractor\n",
    "from torch.utils.data import Dataset, DataLoader\n",
    "import os\n",
    "from transformers import DefaultDataCollator\n",
    "import evaluate\n",
    "from transformers import ViTImageProcessor\n",
    "from transformers import AutoModelForImageClassification, TrainingArguments, Trainer\n",
    "from transformers import AutoConfig, TFAutoModelForTableQuestionAnswering\n",
    "from transformers import ViTForImageClassification\n",
    "from transformers import AdamW\n",
    "from torch.utils.data import DataLoader\n",
    "import torch\n",
    "from torch.nn.functional import softmax\n",
    "from transformers import ViTForImageClassification, ViTFeatureExtractor\n",
    "from transformers import TrainingArguments, Trainer\n",
    "from sklearn.metrics import precision_recall_fscore_support, accuracy_score\n",
    "from transformers import DefaultDataCollator\n"
   ]
  },
  {
   "cell_type": "code",
   "execution_count": 2,
   "metadata": {},
   "outputs": [
    {
     "data": {
      "application/vnd.jupyter.widget-view+json": {
       "model_id": "24fcf53604b745c1a390e8e9396d223e",
       "version_major": 2,
       "version_minor": 0
      },
      "text/plain": [
       "Resolving data files:   0%|          | 0/2673 [00:00<?, ?it/s]"
      ]
     },
     "metadata": {},
     "output_type": "display_data"
    },
    {
     "data": {
      "application/vnd.jupyter.widget-view+json": {
       "model_id": "d54c58b74102447dbcc3d9bd35faa518",
       "version_major": 2,
       "version_minor": 0
      },
      "text/plain": [
       "Resolving data files:   0%|          | 0/334 [00:00<?, ?it/s]"
      ]
     },
     "metadata": {},
     "output_type": "display_data"
    },
    {
     "data": {
      "application/vnd.jupyter.widget-view+json": {
       "model_id": "df52d7e41c024f6196f5987977cb6535",
       "version_major": 2,
       "version_minor": 0
      },
      "text/plain": [
       "Resolving data files:   0%|          | 0/335 [00:00<?, ?it/s]"
      ]
     },
     "metadata": {},
     "output_type": "display_data"
    }
   ],
   "source": [
    "dataset = load_dataset(\"citeseerx/ACL-fig\")"
   ]
  },
  {
   "cell_type": "code",
   "execution_count": 3,
   "metadata": {},
   "outputs": [],
   "source": [
    "train_ds = dataset['train']\n",
    "val_ds = dataset['validation']\n",
    "test_ds = dataset['test']"
   ]
  },
  {
   "cell_type": "code",
   "execution_count": 4,
   "metadata": {},
   "outputs": [
    {
     "data": {
      "text/plain": [
       "{'image': <PIL.PngImagePlugin.PngImageFile image mode=RGB size=550x442>,\n",
       " 'label': 0}"
      ]
     },
     "execution_count": 4,
     "metadata": {},
     "output_type": "execute_result"
    }
   ],
   "source": [
    "dataset[\"train\"][0]"
   ]
  },
  {
   "cell_type": "code",
   "execution_count": 5,
   "metadata": {},
   "outputs": [
    {
     "name": "stderr",
     "output_type": "stream",
     "text": [
      "/home/z1974769/.conda/envs/condavisionenv/lib/python3.11/site-packages/transformers/models/vit/feature_extraction_vit.py:28: FutureWarning: The class ViTFeatureExtractor is deprecated and will be removed in version 5 of Transformers. Please use ViTImageProcessor instead.\n",
      "  warnings.warn(\n",
      "Some weights of ViTForImageClassification were not initialized from the model checkpoint at google/vit-large-patch16-224-in21k and are newly initialized: ['classifier.bias', 'classifier.weight']\n",
      "You should probably TRAIN this model on a down-stream task to be able to use it for predictions and inference.\n"
     ]
    }
   ],
   "source": [
    "\n",
    "checkpoint = \"google/vit-large-patch16-224-in21k\"\n",
    "feature_extractor = ViTFeatureExtractor.from_pretrained('google/vit-large-patch16-224-in21k')\n",
    "model = ViTForImageClassification.from_pretrained('google/vit-large-patch16-224-in21k')  # Load with default classifier\n",
    "model.classifier = torch.nn.Linear(model.config.hidden_size, 19)\n",
    "\n",
    "\n",
    "image_processor = ViTImageProcessor.from_pretrained(\"google/vit-base-patch16-224-in21k\")\n",
    "\n",
    "transforms_ = transforms.Compose([\n",
    "    transforms.RandomHorizontalFlip(p=0.5),\n",
    "    transforms.Resize([224, 224]),\n",
    "    transforms.ToTensor(),\n",
    "    transforms.Normalize(mean=feature_extractor.image_mean, std=feature_extractor.image_std),\n",
    "])\n"
   ]
  },
  {
   "cell_type": "code",
   "execution_count": 6,
   "metadata": {},
   "outputs": [
    {
     "data": {
      "text/plain": [
       "(ViTFeatureExtractor {\n",
       "   \"do_normalize\": true,\n",
       "   \"do_rescale\": true,\n",
       "   \"do_resize\": true,\n",
       "   \"image_mean\": [\n",
       "     0.5,\n",
       "     0.5,\n",
       "     0.5\n",
       "   ],\n",
       "   \"image_processor_type\": \"ViTFeatureExtractor\",\n",
       "   \"image_std\": [\n",
       "     0.5,\n",
       "     0.5,\n",
       "     0.5\n",
       "   ],\n",
       "   \"resample\": 2,\n",
       "   \"rescale_factor\": 0.00392156862745098,\n",
       "   \"size\": {\n",
       "     \"height\": 224,\n",
       "     \"width\": 224\n",
       "   }\n",
       " },\n",
       " ViTImageProcessor {\n",
       "   \"do_normalize\": true,\n",
       "   \"do_rescale\": true,\n",
       "   \"do_resize\": true,\n",
       "   \"image_mean\": [\n",
       "     0.5,\n",
       "     0.5,\n",
       "     0.5\n",
       "   ],\n",
       "   \"image_processor_type\": \"ViTImageProcessor\",\n",
       "   \"image_std\": [\n",
       "     0.5,\n",
       "     0.5,\n",
       "     0.5\n",
       "   ],\n",
       "   \"resample\": 2,\n",
       "   \"rescale_factor\": 0.00392156862745098,\n",
       "   \"size\": {\n",
       "     \"height\": 224,\n",
       "     \"width\": 224\n",
       "   }\n",
       " })"
      ]
     },
     "execution_count": 6,
     "metadata": {},
     "output_type": "execute_result"
    }
   ],
   "source": [
    "feature_extractor, image_processor"
   ]
  },
  {
   "cell_type": "code",
   "execution_count": 6,
   "metadata": {},
   "outputs": [],
   "source": [
    "\n",
    "def transforms_image(examples):\n",
    "    print(examples)\n",
    "    examples[\"pixel_values\"] = [(transforms_(image.convert(\"RGB\"))) for image in examples[\"image\"]]\n",
    "    return examples\n"
   ]
  },
  {
   "cell_type": "code",
   "execution_count": 7,
   "metadata": {},
   "outputs": [
    {
     "data": {
      "text/plain": [
       "{0: 'Line graph_chart',\n",
       " 1: 'NLP text_grammar_eg',\n",
       " 2: 'Screenshots',\n",
       " 3: 'algorithms',\n",
       " 4: 'architecture diagram',\n",
       " 5: 'bar charts',\n",
       " 6: 'boxplots',\n",
       " 7: 'confusion matrix',\n",
       " 8: 'graph',\n",
       " 9: 'maps',\n",
       " 10: 'natural images',\n",
       " 11: 'neural networks',\n",
       " 12: 'pareto',\n",
       " 13: 'pie chart',\n",
       " 14: 'scatter plot',\n",
       " 15: 'tables',\n",
       " 16: 'trees',\n",
       " 17: 'venn diagram',\n",
       " 18: 'word cloud'}"
      ]
     },
     "execution_count": 7,
     "metadata": {},
     "output_type": "execute_result"
    }
   ],
   "source": [
    "id2label = {id:label for id, label in enumerate(train_ds.features['label'].names)}\n",
    "label2id = {label:id for id,label in id2label.items()}\n",
    "id2label"
   ]
  },
  {
   "cell_type": "code",
   "execution_count": 8,
   "metadata": {},
   "outputs": [],
   "source": [
    "from transformers import ViTImageProcessor\n",
    "\n",
    "processor = ViTImageProcessor.from_pretrained(\"google/vit-base-patch16-224-in21k\")"
   ]
  },
  {
   "cell_type": "code",
   "execution_count": 12,
   "metadata": {},
   "outputs": [],
   "source": [
    "from torchvision.transforms import (CenterCrop, \n",
    "                                    Compose, \n",
    "                                    Normalize, \n",
    "                                    RandomHorizontalFlip,\n",
    "                                    RandomResizedCrop, \n",
    "                                    Resize, \n",
    "                                    ToTensor)\n",
    "\n",
    "image_mean, image_std = processor.image_mean, processor.image_std\n",
    "size = processor.size[\"height\"]\n",
    "\n",
    "normalize = Normalize(mean=image_mean, std=image_std)\n",
    "_train_transforms = Compose(\n",
    "        [\n",
    "            RandomResizedCrop(size),\n",
    "            RandomHorizontalFlip(),\n",
    "            ToTensor(),\n",
    "            normalize,\n",
    "        ]\n",
    "    )\n",
    "\n",
    "_val_transforms = Compose(\n",
    "        [\n",
    "            Resize(size),\n",
    "            CenterCrop(size),\n",
    "            ToTensor(),\n",
    "            normalize,\n",
    "        ]\n",
    "    )\n",
    "\n",
    "def train_transforms(examples):\n",
    "    examples['pixel_values'] = [_train_transforms(image.convert(\"RGB\")) for image in examples['image']]\n",
    "    return examples\n",
    "\n",
    "def val_transforms(examples):\n",
    "    examples['pixel_values'] = [_val_transforms(image.convert(\"RGB\")) for image in examples['image']]\n",
    "    return examples"
   ]
  },
  {
   "cell_type": "code",
   "execution_count": 13,
   "metadata": {},
   "outputs": [],
   "source": [
    "# Set the transforms\n",
    "train_ds.set_transform(train_transforms)\n",
    "val_ds.set_transform(val_transforms)\n",
    "test_ds.set_transform(val_transforms)"
   ]
  },
  {
   "cell_type": "code",
   "execution_count": 14,
   "metadata": {},
   "outputs": [
    {
     "data": {
      "text/plain": [
       "{'image': [<PIL.PngImagePlugin.PngImageFile image mode=RGB size=550x442>,\n",
       "  <PIL.PngImagePlugin.PngImageFile image mode=RGB size=569x305>],\n",
       " 'label': [0, 0],\n",
       " 'pixel_values': [tensor([[[1., 1., 1.,  ..., 1., 1., 1.],\n",
       "           [1., 1., 1.,  ..., 1., 1., 1.],\n",
       "           [1., 1., 1.,  ..., 1., 1., 1.],\n",
       "           ...,\n",
       "           [1., 1., 1.,  ..., 1., 1., 1.],\n",
       "           [1., 1., 1.,  ..., 1., 1., 1.],\n",
       "           [1., 1., 1.,  ..., 1., 1., 1.]],\n",
       "  \n",
       "          [[1., 1., 1.,  ..., 1., 1., 1.],\n",
       "           [1., 1., 1.,  ..., 1., 1., 1.],\n",
       "           [1., 1., 1.,  ..., 1., 1., 1.],\n",
       "           ...,\n",
       "           [1., 1., 1.,  ..., 1., 1., 1.],\n",
       "           [1., 1., 1.,  ..., 1., 1., 1.],\n",
       "           [1., 1., 1.,  ..., 1., 1., 1.]],\n",
       "  \n",
       "          [[1., 1., 1.,  ..., 1., 1., 1.],\n",
       "           [1., 1., 1.,  ..., 1., 1., 1.],\n",
       "           [1., 1., 1.,  ..., 1., 1., 1.],\n",
       "           ...,\n",
       "           [1., 1., 1.,  ..., 1., 1., 1.],\n",
       "           [1., 1., 1.,  ..., 1., 1., 1.],\n",
       "           [1., 1., 1.,  ..., 1., 1., 1.]]]),\n",
       "  tensor([[[1., 1., 1.,  ..., 1., 1., 1.],\n",
       "           [1., 1., 1.,  ..., 1., 1., 1.],\n",
       "           [1., 1., 1.,  ..., 1., 1., 1.],\n",
       "           ...,\n",
       "           [1., 1., 1.,  ..., 1., 1., 1.],\n",
       "           [1., 1., 1.,  ..., 1., 1., 1.],\n",
       "           [1., 1., 1.,  ..., 1., 1., 1.]],\n",
       "  \n",
       "          [[1., 1., 1.,  ..., 1., 1., 1.],\n",
       "           [1., 1., 1.,  ..., 1., 1., 1.],\n",
       "           [1., 1., 1.,  ..., 1., 1., 1.],\n",
       "           ...,\n",
       "           [1., 1., 1.,  ..., 1., 1., 1.],\n",
       "           [1., 1., 1.,  ..., 1., 1., 1.],\n",
       "           [1., 1., 1.,  ..., 1., 1., 1.]],\n",
       "  \n",
       "          [[1., 1., 1.,  ..., 1., 1., 1.],\n",
       "           [1., 1., 1.,  ..., 1., 1., 1.],\n",
       "           [1., 1., 1.,  ..., 1., 1., 1.],\n",
       "           ...,\n",
       "           [1., 1., 1.,  ..., 1., 1., 1.],\n",
       "           [1., 1., 1.,  ..., 1., 1., 1.],\n",
       "           [1., 1., 1.,  ..., 1., 1., 1.]]])]}"
      ]
     },
     "execution_count": 14,
     "metadata": {},
     "output_type": "execute_result"
    }
   ],
   "source": [
    "train_ds[:2]"
   ]
  },
  {
   "cell_type": "code",
   "execution_count": 15,
   "metadata": {},
   "outputs": [],
   "source": [
    "from torch.utils.data import DataLoader\n",
    "import torch\n",
    "\n",
    "def collate_fn(examples):\n",
    "    pixel_values = torch.stack([example[\"pixel_values\"] for example in examples])\n",
    "    labels = torch.tensor([example[\"label\"] for example in examples])\n",
    "    return {\"pixel_values\": pixel_values, \"labels\": labels}\n",
    "\n",
    "train_dataloader = DataLoader(train_ds, collate_fn=collate_fn, batch_size=4)"
   ]
  },
  {
   "cell_type": "code",
   "execution_count": 16,
   "metadata": {},
   "outputs": [
    {
     "name": "stdout",
     "output_type": "stream",
     "text": [
      "pixel_values torch.Size([4, 3, 224, 224])\n",
      "labels torch.Size([4])\n"
     ]
    }
   ],
   "source": [
    "batch = next(iter(train_dataloader))\n",
    "for k,v in batch.items():\n",
    "  if isinstance(v, torch.Tensor):\n",
    "    print(k, v.shape)"
   ]
  },
  {
   "cell_type": "code",
   "execution_count": 17,
   "metadata": {},
   "outputs": [
    {
     "name": "stderr",
     "output_type": "stream",
     "text": [
      "Some weights of ViTForImageClassification were not initialized from the model checkpoint at google/vit-base-patch16-224-in21k and are newly initialized: ['classifier.bias', 'classifier.weight']\n",
      "You should probably TRAIN this model on a down-stream task to be able to use it for predictions and inference.\n"
     ]
    }
   ],
   "source": [
    "from transformers import ViTForImageClassification\n",
    "\n",
    "model = ViTForImageClassification.from_pretrained('google/vit-base-patch16-224-in21k',\n",
    "                                                  id2label=id2label,\n",
    "                                                  label2id=label2id)"
   ]
  },
  {
   "cell_type": "code",
   "execution_count": 18,
   "metadata": {},
   "outputs": [],
   "source": [
    "from transformers import TrainingArguments, Trainer\n",
    "\n",
    "metric_name = \"accuracy\"\n",
    "\n",
    "args = TrainingArguments(\n",
    "    output_dir = \"./classifier_results\",\n",
    "    save_strategy=\"epoch\",\n",
    "    evaluation_strategy=\"epoch\",\n",
    "    learning_rate=2e-5,\n",
    "    per_device_train_batch_size=10,\n",
    "    per_device_eval_batch_size=4,\n",
    "    num_train_epochs=3,\n",
    "    weight_decay=0.01,\n",
    "    load_best_model_at_end=True,\n",
    "    metric_for_best_model=metric_name,\n",
    "    logging_dir='logs',\n",
    "    remove_unused_columns=False,\n",
    ")"
   ]
  },
  {
   "cell_type": "code",
   "execution_count": 19,
   "metadata": {},
   "outputs": [],
   "source": [
    "from sklearn.metrics import accuracy_score\n",
    "import numpy as np\n",
    "\n",
    "def compute_metrics(eval_pred):\n",
    "    predictions, labels = eval_pred\n",
    "    predictions = np.argmax(predictions, axis=1)\n",
    "    return dict(accuracy=accuracy_score(predictions, labels))"
   ]
  },
  {
   "cell_type": "code",
   "execution_count": 20,
   "metadata": {},
   "outputs": [
    {
     "name": "stderr",
     "output_type": "stream",
     "text": [
      "Detected kernel version 4.18.0, which is below the recommended minimum of 5.5.0; this can cause the process to hang. It is recommended to upgrade the kernel to the minimum version or higher.\n"
     ]
    }
   ],
   "source": [
    "import torch\n",
    "\n",
    "trainer = Trainer(\n",
    "    model,\n",
    "    args,\n",
    "    train_dataset=train_ds,\n",
    "    eval_dataset=val_ds,\n",
    "    data_collator=collate_fn,\n",
    "    compute_metrics=compute_metrics,\n",
    "    tokenizer=processor,\n",
    ")"
   ]
  },
  {
   "cell_type": "code",
   "execution_count": 21,
   "metadata": {},
   "outputs": [
    {
     "data": {
      "text/html": [
       "\n",
       "      <iframe id=\"tensorboard-frame-1c80317fa3b1799d\" width=\"100%\" height=\"800\" frameborder=\"0\">\n",
       "      </iframe>\n",
       "      <script>\n",
       "        (function() {\n",
       "          const frame = document.getElementById(\"tensorboard-frame-1c80317fa3b1799d\");\n",
       "          const url = new URL(\"/\", window.location);\n",
       "          const port = 6007;\n",
       "          if (port) {\n",
       "            url.port = port;\n",
       "          }\n",
       "          frame.src = url;\n",
       "        })();\n",
       "      </script>\n",
       "    "
      ],
      "text/plain": [
       "<IPython.core.display.HTML object>"
      ]
     },
     "metadata": {},
     "output_type": "display_data"
    }
   ],
   "source": [
    "# Start tensorboard.\n",
    "%load_ext tensorboard\n",
    "%tensorboard --logdir logs/"
   ]
  },
  {
   "cell_type": "code",
   "execution_count": 22,
   "metadata": {},
   "outputs": [
    {
     "data": {
      "text/html": [
       "\n",
       "    <div>\n",
       "      \n",
       "      <progress value='804' max='804' style='width:300px; height:20px; vertical-align: middle;'></progress>\n",
       "      [804/804 02:49, Epoch 3/3]\n",
       "    </div>\n",
       "    <table border=\"1\" class=\"dataframe\">\n",
       "  <thead>\n",
       " <tr style=\"text-align: left;\">\n",
       "      <th>Epoch</th>\n",
       "      <th>Training Loss</th>\n",
       "      <th>Validation Loss</th>\n",
       "      <th>Accuracy</th>\n",
       "    </tr>\n",
       "  </thead>\n",
       "  <tbody>\n",
       "    <tr>\n",
       "      <td>1</td>\n",
       "      <td>No log</td>\n",
       "      <td>1.757849</td>\n",
       "      <td>0.775449</td>\n",
       "    </tr>\n",
       "    <tr>\n",
       "      <td>2</td>\n",
       "      <td>1.945300</td>\n",
       "      <td>1.336105</td>\n",
       "      <td>0.829341</td>\n",
       "    </tr>\n",
       "    <tr>\n",
       "      <td>3</td>\n",
       "      <td>1.945300</td>\n",
       "      <td>1.208420</td>\n",
       "      <td>0.850299</td>\n",
       "    </tr>\n",
       "  </tbody>\n",
       "</table><p>"
      ],
      "text/plain": [
       "<IPython.core.display.HTML object>"
      ]
     },
     "metadata": {},
     "output_type": "display_data"
    },
    {
     "data": {
      "text/plain": [
       "TrainOutput(global_step=804, training_loss=1.6954584453829484, metrics={'train_runtime': 172.0398, 'train_samples_per_second': 46.611, 'train_steps_per_second': 4.673, 'total_flos': 6.215029459767153e+17, 'train_loss': 1.6954584453829484, 'epoch': 3.0})"
      ]
     },
     "execution_count": 22,
     "metadata": {},
     "output_type": "execute_result"
    },
    {
     "ename": "",
     "evalue": "",
     "output_type": "error",
     "traceback": [
      "\u001b[1;31mThe Kernel crashed while executing code in the current cell or a previous cell. \n",
      "\u001b[1;31mPlease review the code in the cell(s) to identify a possible cause of the failure. \n",
      "\u001b[1;31mClick <a href='https://aka.ms/vscodeJupyterKernelCrash'>here</a> for more info. \n",
      "\u001b[1;31mView Jupyter <a href='command:jupyter.viewOutput'>log</a> for further details."
     ]
    }
   ],
   "source": [
    "trainer.train()"
   ]
  },
  {
   "cell_type": "code",
   "execution_count": 14,
   "metadata": {},
   "outputs": [],
   "source": [
    "import pandas as pd\n",
    "import numpy as np\n",
    "\n",
    "df = pd.DataFrame([[4, 9]] * 3, columns=['A', 'B'])\n",
    "\n"
   ]
  },
  {
   "cell_type": "code",
   "execution_count": 15,
   "metadata": {},
   "outputs": [
    {
     "data": {
      "text/html": [
       "<div>\n",
       "<style scoped>\n",
       "    .dataframe tbody tr th:only-of-type {\n",
       "        vertical-align: middle;\n",
       "    }\n",
       "\n",
       "    .dataframe tbody tr th {\n",
       "        vertical-align: top;\n",
       "    }\n",
       "\n",
       "    .dataframe thead th {\n",
       "        text-align: right;\n",
       "    }\n",
       "</style>\n",
       "<table border=\"1\" class=\"dataframe\">\n",
       "  <thead>\n",
       "    <tr style=\"text-align: right;\">\n",
       "      <th></th>\n",
       "      <th>A</th>\n",
       "      <th>B</th>\n",
       "    </tr>\n",
       "  </thead>\n",
       "  <tbody>\n",
       "    <tr>\n",
       "      <th>0</th>\n",
       "      <td>4</td>\n",
       "      <td>9</td>\n",
       "    </tr>\n",
       "    <tr>\n",
       "      <th>1</th>\n",
       "      <td>4</td>\n",
       "      <td>9</td>\n",
       "    </tr>\n",
       "    <tr>\n",
       "      <th>2</th>\n",
       "      <td>4</td>\n",
       "      <td>9</td>\n",
       "    </tr>\n",
       "  </tbody>\n",
       "</table>\n",
       "</div>"
      ],
      "text/plain": [
       "   A  B\n",
       "0  4  9\n",
       "1  4  9\n",
       "2  4  9"
      ]
     },
     "execution_count": 15,
     "metadata": {},
     "output_type": "execute_result"
    }
   ],
   "source": [
    "df"
   ]
  },
  {
   "cell_type": "code",
   "execution_count": 16,
   "metadata": {},
   "outputs": [],
   "source": [
    "def abab(row):\n",
    "    return [row['A'] + row['B'], (row[\"A\"] * row[\"B\"], \"jhvfjyav\")]\n",
    "    # return row[\"A\"] + row[\"B\"]"
   ]
  },
  {
   "cell_type": "code",
   "execution_count": 17,
   "metadata": {},
   "outputs": [],
   "source": [
    "df[[\"A+B\", \"A*B\"]] = df.apply(abab, axis = 1, result_type = \"expand\")\n",
    "# df[\"A+B\"] = df.apply(abab, axis = 1)"
   ]
  },
  {
   "cell_type": "code",
   "execution_count": 18,
   "metadata": {},
   "outputs": [
    {
     "data": {
      "text/html": [
       "<div>\n",
       "<style scoped>\n",
       "    .dataframe tbody tr th:only-of-type {\n",
       "        vertical-align: middle;\n",
       "    }\n",
       "\n",
       "    .dataframe tbody tr th {\n",
       "        vertical-align: top;\n",
       "    }\n",
       "\n",
       "    .dataframe thead th {\n",
       "        text-align: right;\n",
       "    }\n",
       "</style>\n",
       "<table border=\"1\" class=\"dataframe\">\n",
       "  <thead>\n",
       "    <tr style=\"text-align: right;\">\n",
       "      <th></th>\n",
       "      <th>A</th>\n",
       "      <th>B</th>\n",
       "      <th>A+B</th>\n",
       "      <th>A*B</th>\n",
       "    </tr>\n",
       "  </thead>\n",
       "  <tbody>\n",
       "    <tr>\n",
       "      <th>0</th>\n",
       "      <td>4</td>\n",
       "      <td>9</td>\n",
       "      <td>13</td>\n",
       "      <td>(36, jhvfjyav)</td>\n",
       "    </tr>\n",
       "    <tr>\n",
       "      <th>1</th>\n",
       "      <td>4</td>\n",
       "      <td>9</td>\n",
       "      <td>13</td>\n",
       "      <td>(36, jhvfjyav)</td>\n",
       "    </tr>\n",
       "    <tr>\n",
       "      <th>2</th>\n",
       "      <td>4</td>\n",
       "      <td>9</td>\n",
       "      <td>13</td>\n",
       "      <td>(36, jhvfjyav)</td>\n",
       "    </tr>\n",
       "  </tbody>\n",
       "</table>\n",
       "</div>"
      ],
      "text/plain": [
       "   A  B  A+B             A*B\n",
       "0  4  9   13  (36, jhvfjyav)\n",
       "1  4  9   13  (36, jhvfjyav)\n",
       "2  4  9   13  (36, jhvfjyav)"
      ]
     },
     "execution_count": 18,
     "metadata": {},
     "output_type": "execute_result"
    }
   ],
   "source": [
    "df"
   ]
  },
  {
   "cell_type": "code",
   "execution_count": 19,
   "metadata": {},
   "outputs": [],
   "source": [
    "df1 = pd.read_csv(\"/lstr/sahara/datalab-ml/z1974769/outputs_pdffigures/real_outputs/all_files_data_combined_with_predictions.csv\")\n"
   ]
  },
  {
   "cell_type": "code",
   "execution_count": 20,
   "metadata": {},
   "outputs": [
    {
     "data": {
      "text/html": [
       "<div>\n",
       "<style scoped>\n",
       "    .dataframe tbody tr th:only-of-type {\n",
       "        vertical-align: middle;\n",
       "    }\n",
       "\n",
       "    .dataframe tbody tr th {\n",
       "        vertical-align: top;\n",
       "    }\n",
       "\n",
       "    .dataframe thead th {\n",
       "        text-align: right;\n",
       "    }\n",
       "</style>\n",
       "<table border=\"1\" class=\"dataframe\">\n",
       "  <thead>\n",
       "    <tr style=\"text-align: right;\">\n",
       "      <th></th>\n",
       "      <th>imageText</th>\n",
       "      <th>name</th>\n",
       "      <th>page</th>\n",
       "      <th>figType</th>\n",
       "      <th>captionBoundary</th>\n",
       "      <th>renderDpi</th>\n",
       "      <th>renderURL</th>\n",
       "      <th>regionBoundary</th>\n",
       "      <th>caption</th>\n",
       "      <th>Fig_name</th>\n",
       "      <th>Swin_prediction</th>\n",
       "      <th>Swin_confidence</th>\n",
       "      <th>Goolge_ViT_prediction</th>\n",
       "      <th>Goolge_ViT_confidence</th>\n",
       "    </tr>\n",
       "  </thead>\n",
       "  <tbody>\n",
       "    <tr>\n",
       "      <th>0</th>\n",
       "      <td>['Γ⇒', '∆;Π', 'N', '−', 'cut', 'Γ⇒', '∆,', 'x'...</td>\n",
       "      <td>3</td>\n",
       "      <td>14</td>\n",
       "      <td>Figure</td>\n",
       "      <td>{'x1': 124.79974365234375, 'x2': 470.477355957...</td>\n",
       "      <td>150</td>\n",
       "      <td>/lstr/sahara/datalab-ml/z1974769/outputs_pdffi...</td>\n",
       "      <td>{'x1': 128.64, 'x2': 483.35999999999996, 'y1':...</td>\n",
       "      <td>Figure 3: Ecumenical pure modal system labEK. ...</td>\n",
       "      <td>figure_images2204.02076-Figure3-1.png</td>\n",
       "      <td>trees</td>\n",
       "      <td>0.558751</td>\n",
       "      <td>scatter plot</td>\n",
       "      <td>0.086721</td>\n",
       "    </tr>\n",
       "    <tr>\n",
       "      <th>1</th>\n",
       "      <td>['Γ⇒', '∆;Π', 'N', '−', 'cut', 'Γ⇒', '∆,N;Π∗',...</td>\n",
       "      <td>2</td>\n",
       "      <td>6</td>\n",
       "      <td>Figure</td>\n",
       "      <td>{'x1': 124.80010986328125, 'x2': 468.516174316...</td>\n",
       "      <td>150</td>\n",
       "      <td>/lstr/sahara/datalab-ml/z1974769/outputs_pdffi...</td>\n",
       "      <td>{'x1': 145.92, 'x2': 446.88, 'y1': 447.84, 'y2...</td>\n",
       "      <td>Figure 2: Ecumenical pure system LCE. In rules...</td>\n",
       "      <td>figure_images2204.02076-Figure2-1.png</td>\n",
       "      <td>trees</td>\n",
       "      <td>0.488079</td>\n",
       "      <td>boxplots</td>\n",
       "      <td>0.100870</td>\n",
       "    </tr>\n",
       "    <tr>\n",
       "      <th>2</th>\n",
       "      <td>['∆1{', 'A•,', '[A•,∆2]}', '∆1{', 'A•,', '[∆2]...</td>\n",
       "      <td>5</td>\n",
       "      <td>21</td>\n",
       "      <td>Figure</td>\n",
       "      <td>{'x1': 219.60032653808594, 'x2': 373.651062011...</td>\n",
       "      <td>150</td>\n",
       "      <td>/lstr/sahara/datalab-ml/z1974769/outputs_pdffi...</td>\n",
       "      <td>{'x1': 123.83999999999999, 'x2': 473.76, 'y1':...</td>\n",
       "      <td>Figure 5: Intuitionistic fragment nEKi.</td>\n",
       "      <td>figure_images2204.02076-Figure5-1.png</td>\n",
       "      <td>tables</td>\n",
       "      <td>0.883903</td>\n",
       "      <td>trees</td>\n",
       "      <td>0.176683</td>\n",
       "    </tr>\n",
       "    <tr>\n",
       "      <th>3</th>\n",
       "      <td>['Γ⊥', '◦', '{P▽}', 'D', 'Λ{N▽,⊥◦}', 'Λ{N◦}', ...</td>\n",
       "      <td>6</td>\n",
       "      <td>21</td>\n",
       "      <td>Figure</td>\n",
       "      <td>{'x1': 226.56011962890625, 'x2': 366.810882568...</td>\n",
       "      <td>150</td>\n",
       "      <td>/lstr/sahara/datalab-ml/z1974769/outputs_pdffi...</td>\n",
       "      <td>{'x1': 148.79999999999998, 'x2': 453.12, 'y1':...</td>\n",
       "      <td>Figure 6: Classical fragment nEKc.</td>\n",
       "      <td>figure_images2204.02076-Figure6-1.png</td>\n",
       "      <td>tables</td>\n",
       "      <td>0.953753</td>\n",
       "      <td>NLP text_grammar_eg</td>\n",
       "      <td>0.209699</td>\n",
       "    </tr>\n",
       "    <tr>\n",
       "      <th>4</th>\n",
       "      <td>['4', ':', 'A→', 'A', '∧', '♦♦A→', '♦A', 'Tran...</td>\n",
       "      <td>1</td>\n",
       "      <td>22</td>\n",
       "      <td>Table</td>\n",
       "      <td>{'x1': 170.16000366210938, 'x2': 423.209594726...</td>\n",
       "      <td>150</td>\n",
       "      <td>/lstr/sahara/datalab-ml/z1974769/outputs_pdffi...</td>\n",
       "      <td>{'x1': 123.83999999999999, 'x2': 470.4, 'y1': ...</td>\n",
       "      <td>Table 1: Axioms and corresponding first-order ...</td>\n",
       "      <td>figure_images2204.02076-Table1-1.png</td>\n",
       "      <td>tables</td>\n",
       "      <td>0.997770</td>\n",
       "      <td>NLP text_grammar_eg</td>\n",
       "      <td>0.114627</td>\n",
       "    </tr>\n",
       "    <tr>\n",
       "      <th>...</th>\n",
       "      <td>...</td>\n",
       "      <td>...</td>\n",
       "      <td>...</td>\n",
       "      <td>...</td>\n",
       "      <td>...</td>\n",
       "      <td>...</td>\n",
       "      <td>...</td>\n",
       "      <td>...</td>\n",
       "      <td>...</td>\n",
       "      <td>...</td>\n",
       "      <td>...</td>\n",
       "      <td>...</td>\n",
       "      <td>...</td>\n",
       "      <td>...</td>\n",
       "    </tr>\n",
       "    <tr>\n",
       "      <th>37726</th>\n",
       "      <td>['CPH', '74.34', '(73.97,', '74.71)', '82.79',...</td>\n",
       "      <td>4</td>\n",
       "      <td>16</td>\n",
       "      <td>Table</td>\n",
       "      <td>{'x1': 133.46400451660156, 'x2': 477.783142089...</td>\n",
       "      <td>150</td>\n",
       "      <td>/lstr/sahara/datalab-ml/z1974769/outputs_pdffi...</td>\n",
       "      <td>{'x1': 132.96, 'x2': 478.08, 'y1': 543.36, 'y2...</td>\n",
       "      <td>Table 4: The CIec values (%) of the compared m...</td>\n",
       "      <td>figure_images2203.00144-Table4-1.png</td>\n",
       "      <td>NLP text_grammar_eg</td>\n",
       "      <td>0.701335</td>\n",
       "      <td>NLP text_grammar_eg</td>\n",
       "      <td>0.180838</td>\n",
       "    </tr>\n",
       "    <tr>\n",
       "      <th>37727</th>\n",
       "      <td>['CPH', '56.38', '(56.08,', '56.65)', '57.48',...</td>\n",
       "      <td>3</td>\n",
       "      <td>16</td>\n",
       "      <td>Table</td>\n",
       "      <td>{'x1': 133.46400451660156, 'x2': 477.785766601...</td>\n",
       "      <td>150</td>\n",
       "      <td>/lstr/sahara/datalab-ml/z1974769/outputs_pdffi...</td>\n",
       "      <td>{'x1': 132.96, 'x2': 478.08, 'y1': 365.76, 'y2...</td>\n",
       "      <td>Table 3: The CIee values (%) of the compared m...</td>\n",
       "      <td>figure_images2203.00144-Table3-1.png</td>\n",
       "      <td>NLP text_grammar_eg</td>\n",
       "      <td>0.776761</td>\n",
       "      <td>tables</td>\n",
       "      <td>0.295294</td>\n",
       "    </tr>\n",
       "    <tr>\n",
       "      <th>37728</th>\n",
       "      <td>['CPH', '72.91', '(72.57,', '73.25)', '78.37',...</td>\n",
       "      <td>2</td>\n",
       "      <td>16</td>\n",
       "      <td>Table</td>\n",
       "      <td>{'x1': 133.46400451660156, 'x2': 477.482330322...</td>\n",
       "      <td>150</td>\n",
       "      <td>/lstr/sahara/datalab-ml/z1974769/outputs_pdffi...</td>\n",
       "      <td>{'x1': 132.96, 'x2': 478.08, 'y1': 188.64, 'y2...</td>\n",
       "      <td>Table 2: The C-index (CI) values (%) of the co...</td>\n",
       "      <td>figure_images2203.00144-Table2-1.png</td>\n",
       "      <td>NLP text_grammar_eg</td>\n",
       "      <td>0.709978</td>\n",
       "      <td>tables</td>\n",
       "      <td>0.278061</td>\n",
       "    </tr>\n",
       "    <tr>\n",
       "      <th>37729</th>\n",
       "      <td>['SurVED', 'DeepSurv', 'DeepHit', 'DATE', 'VSI...</td>\n",
       "      <td>3</td>\n",
       "      <td>19</td>\n",
       "      <td>Figure</td>\n",
       "      <td>{'x1': 133.54800415039062, 'x2': 478.472991943...</td>\n",
       "      <td>150</td>\n",
       "      <td>/lstr/sahara/datalab-ml/z1974769/outputs_pdffi...</td>\n",
       "      <td>{'x1': 136.79999999999998, 'x2': 479.52, 'y1':...</td>\n",
       "      <td>Figure 3: The change of CI as the size of the ...</td>\n",
       "      <td>figure_images2203.00144-Figure3-1.png</td>\n",
       "      <td>Line graph_chart</td>\n",
       "      <td>0.991793</td>\n",
       "      <td>Line graph_chart</td>\n",
       "      <td>0.248897</td>\n",
       "    </tr>\n",
       "    <tr>\n",
       "      <th>37730</th>\n",
       "      <td>['(d)', 'α-Deviation', 'Win', 'Lose', 'Draw', ...</td>\n",
       "      <td>2</td>\n",
       "      <td>15</td>\n",
       "      <td>Figure</td>\n",
       "      <td>{'x1': 133.76800537109375, 'x2': 477.476013183...</td>\n",
       "      <td>150</td>\n",
       "      <td>/lstr/sahara/datalab-ml/z1974769/outputs_pdffi...</td>\n",
       "      <td>{'x1': 145.44, 'x2': 477.12, 'y1': 128.64, 'y2...</td>\n",
       "      <td>Figure 2: The Win/Lose/Draw comparison based o...</td>\n",
       "      <td>figure_images2203.00144-Figure2-1.png</td>\n",
       "      <td>bar charts</td>\n",
       "      <td>0.995356</td>\n",
       "      <td>bar charts</td>\n",
       "      <td>0.213675</td>\n",
       "    </tr>\n",
       "  </tbody>\n",
       "</table>\n",
       "<p>37731 rows × 14 columns</p>\n",
       "</div>"
      ],
      "text/plain": [
       "                                               imageText name  page figType  \\\n",
       "0      ['Γ⇒', '∆;Π', 'N', '−', 'cut', 'Γ⇒', '∆,', 'x'...    3    14  Figure   \n",
       "1      ['Γ⇒', '∆;Π', 'N', '−', 'cut', 'Γ⇒', '∆,N;Π∗',...    2     6  Figure   \n",
       "2      ['∆1{', 'A•,', '[A•,∆2]}', '∆1{', 'A•,', '[∆2]...    5    21  Figure   \n",
       "3      ['Γ⊥', '◦', '{P▽}', 'D', 'Λ{N▽,⊥◦}', 'Λ{N◦}', ...    6    21  Figure   \n",
       "4      ['4', ':', 'A→', 'A', '∧', '♦♦A→', '♦A', 'Tran...    1    22   Table   \n",
       "...                                                  ...  ...   ...     ...   \n",
       "37726  ['CPH', '74.34', '(73.97,', '74.71)', '82.79',...    4    16   Table   \n",
       "37727  ['CPH', '56.38', '(56.08,', '56.65)', '57.48',...    3    16   Table   \n",
       "37728  ['CPH', '72.91', '(72.57,', '73.25)', '78.37',...    2    16   Table   \n",
       "37729  ['SurVED', 'DeepSurv', 'DeepHit', 'DATE', 'VSI...    3    19  Figure   \n",
       "37730  ['(d)', 'α-Deviation', 'Win', 'Lose', 'Draw', ...    2    15  Figure   \n",
       "\n",
       "                                         captionBoundary  renderDpi  \\\n",
       "0      {'x1': 124.79974365234375, 'x2': 470.477355957...        150   \n",
       "1      {'x1': 124.80010986328125, 'x2': 468.516174316...        150   \n",
       "2      {'x1': 219.60032653808594, 'x2': 373.651062011...        150   \n",
       "3      {'x1': 226.56011962890625, 'x2': 366.810882568...        150   \n",
       "4      {'x1': 170.16000366210938, 'x2': 423.209594726...        150   \n",
       "...                                                  ...        ...   \n",
       "37726  {'x1': 133.46400451660156, 'x2': 477.783142089...        150   \n",
       "37727  {'x1': 133.46400451660156, 'x2': 477.785766601...        150   \n",
       "37728  {'x1': 133.46400451660156, 'x2': 477.482330322...        150   \n",
       "37729  {'x1': 133.54800415039062, 'x2': 478.472991943...        150   \n",
       "37730  {'x1': 133.76800537109375, 'x2': 477.476013183...        150   \n",
       "\n",
       "                                               renderURL  \\\n",
       "0      /lstr/sahara/datalab-ml/z1974769/outputs_pdffi...   \n",
       "1      /lstr/sahara/datalab-ml/z1974769/outputs_pdffi...   \n",
       "2      /lstr/sahara/datalab-ml/z1974769/outputs_pdffi...   \n",
       "3      /lstr/sahara/datalab-ml/z1974769/outputs_pdffi...   \n",
       "4      /lstr/sahara/datalab-ml/z1974769/outputs_pdffi...   \n",
       "...                                                  ...   \n",
       "37726  /lstr/sahara/datalab-ml/z1974769/outputs_pdffi...   \n",
       "37727  /lstr/sahara/datalab-ml/z1974769/outputs_pdffi...   \n",
       "37728  /lstr/sahara/datalab-ml/z1974769/outputs_pdffi...   \n",
       "37729  /lstr/sahara/datalab-ml/z1974769/outputs_pdffi...   \n",
       "37730  /lstr/sahara/datalab-ml/z1974769/outputs_pdffi...   \n",
       "\n",
       "                                          regionBoundary  \\\n",
       "0      {'x1': 128.64, 'x2': 483.35999999999996, 'y1':...   \n",
       "1      {'x1': 145.92, 'x2': 446.88, 'y1': 447.84, 'y2...   \n",
       "2      {'x1': 123.83999999999999, 'x2': 473.76, 'y1':...   \n",
       "3      {'x1': 148.79999999999998, 'x2': 453.12, 'y1':...   \n",
       "4      {'x1': 123.83999999999999, 'x2': 470.4, 'y1': ...   \n",
       "...                                                  ...   \n",
       "37726  {'x1': 132.96, 'x2': 478.08, 'y1': 543.36, 'y2...   \n",
       "37727  {'x1': 132.96, 'x2': 478.08, 'y1': 365.76, 'y2...   \n",
       "37728  {'x1': 132.96, 'x2': 478.08, 'y1': 188.64, 'y2...   \n",
       "37729  {'x1': 136.79999999999998, 'x2': 479.52, 'y1':...   \n",
       "37730  {'x1': 145.44, 'x2': 477.12, 'y1': 128.64, 'y2...   \n",
       "\n",
       "                                                 caption  \\\n",
       "0      Figure 3: Ecumenical pure modal system labEK. ...   \n",
       "1      Figure 2: Ecumenical pure system LCE. In rules...   \n",
       "2                Figure 5: Intuitionistic fragment nEKi.   \n",
       "3                     Figure 6: Classical fragment nEKc.   \n",
       "4      Table 1: Axioms and corresponding first-order ...   \n",
       "...                                                  ...   \n",
       "37726  Table 4: The CIec values (%) of the compared m...   \n",
       "37727  Table 3: The CIee values (%) of the compared m...   \n",
       "37728  Table 2: The C-index (CI) values (%) of the co...   \n",
       "37729  Figure 3: The change of CI as the size of the ...   \n",
       "37730  Figure 2: The Win/Lose/Draw comparison based o...   \n",
       "\n",
       "                                    Fig_name      Swin_prediction  \\\n",
       "0      figure_images2204.02076-Figure3-1.png                trees   \n",
       "1      figure_images2204.02076-Figure2-1.png                trees   \n",
       "2      figure_images2204.02076-Figure5-1.png               tables   \n",
       "3      figure_images2204.02076-Figure6-1.png               tables   \n",
       "4       figure_images2204.02076-Table1-1.png               tables   \n",
       "...                                      ...                  ...   \n",
       "37726   figure_images2203.00144-Table4-1.png  NLP text_grammar_eg   \n",
       "37727   figure_images2203.00144-Table3-1.png  NLP text_grammar_eg   \n",
       "37728   figure_images2203.00144-Table2-1.png  NLP text_grammar_eg   \n",
       "37729  figure_images2203.00144-Figure3-1.png     Line graph_chart   \n",
       "37730  figure_images2203.00144-Figure2-1.png           bar charts   \n",
       "\n",
       "       Swin_confidence Goolge_ViT_prediction  Goolge_ViT_confidence  \n",
       "0             0.558751          scatter plot               0.086721  \n",
       "1             0.488079              boxplots               0.100870  \n",
       "2             0.883903                 trees               0.176683  \n",
       "3             0.953753   NLP text_grammar_eg               0.209699  \n",
       "4             0.997770   NLP text_grammar_eg               0.114627  \n",
       "...                ...                   ...                    ...  \n",
       "37726         0.701335   NLP text_grammar_eg               0.180838  \n",
       "37727         0.776761                tables               0.295294  \n",
       "37728         0.709978                tables               0.278061  \n",
       "37729         0.991793      Line graph_chart               0.248897  \n",
       "37730         0.995356            bar charts               0.213675  \n",
       "\n",
       "[37731 rows x 14 columns]"
      ]
     },
     "execution_count": 20,
     "metadata": {},
     "output_type": "execute_result"
    }
   ],
   "source": [
    "df1"
   ]
  },
  {
   "cell_type": "code",
   "execution_count": 22,
   "metadata": {},
   "outputs": [
    {
     "name": "stdout",
     "output_type": "stream",
     "text": [
      "Number of rows with same values: 21873\n",
      "Number of rows with different values: 15858\n"
     ]
    }
   ],
   "source": [
    "column1 = pd.Series(df1[\"Goolge_ViT_prediction\"])\n",
    "column2 = pd.Series(df1[\"Swin_prediction\"])\n",
    "\n",
    "same_values_count = (column1 == column2).sum()\n",
    "\n",
    "# Count rows with different values\n",
    "different_values_count = (column1 != column2).sum()\n",
    "\n",
    "print(\"Number of rows with same values:\", same_values_count)\n",
    "print(\"Number of rows with different values:\", different_values_count)\n",
    "\n"
   ]
  },
  {
   "cell_type": "code",
   "execution_count": 30,
   "metadata": {},
   "outputs": [
    {
     "data": {
      "application/vnd.jupyter.widget-view+json": {
       "model_id": "4f456dd579f0475bab15c58f8ef0c4c4",
       "version_major": 2,
       "version_minor": 0
      },
      "text/plain": [
       "Resolving data files:   0%|          | 0/2673 [00:00<?, ?it/s]"
      ]
     },
     "metadata": {},
     "output_type": "display_data"
    },
    {
     "data": {
      "application/vnd.jupyter.widget-view+json": {
       "model_id": "f075f2bfc8c3489588d7ac1d6a7189b4",
       "version_major": 2,
       "version_minor": 0
      },
      "text/plain": [
       "Resolving data files:   0%|          | 0/334 [00:00<?, ?it/s]"
      ]
     },
     "metadata": {},
     "output_type": "display_data"
    },
    {
     "data": {
      "application/vnd.jupyter.widget-view+json": {
       "model_id": "e316232e21f8488dbc706d506aaf0535",
       "version_major": 2,
       "version_minor": 0
      },
      "text/plain": [
       "Resolving data files:   0%|          | 0/335 [00:00<?, ?it/s]"
      ]
     },
     "metadata": {},
     "output_type": "display_data"
    }
   ],
   "source": [
    "from torchvision import datasets\n",
    "from datasets import load_dataset\n",
    "from torchvision import datasets, transforms\n",
    "from transformers import AutoModelForImageClassification, AutoImageProcessor\n",
    "\n",
    "swin_fine_tine = \"/lstr/sahara/datalab-ml/z1974769/classifier/swin_classifier_results/checkpoint-804\"\n",
    "google_vit_fine_tune = \"/lstr/sahara/datalab-ml/z1974769/classifier/classifier_results/checkpoint-804\"\n",
    "df_acl_fig = pd.read_csv(\"/lstr/sahara/datalab-ml/z1974769/scientific_figures_pilot.csv\")\n",
    "swin_model = AutoModelForImageClassification.from_pretrained(swin_fine_tine)\n",
    "google_vit_model = AutoModelForImageClassification.from_pretrained(google_vit_fine_tune)\n",
    "\n",
    "dataset = load_dataset(\"citeseerx/ACL-fig\")\n",
    "image_processor_swin  = AutoImageProcessor.from_pretrained(\"/lstr/sahara/datalab-ml/z1974769/classifier/swin_classifier_results/checkpoint-804\")\n",
    "image_processor_Vit = AutoImageProcessor.from_pretrained(\"/lstr/sahara/datalab-ml/z1974769/classifier/classifier_results/checkpoint-804\")\n",
    "\n",
    "transforms_ViT_ = transforms.Compose([\n",
    "    transforms.Resize([image_processor_Vit.size[\"height\"], image_processor_Vit.size[\"width\"]]),\n",
    "    transforms.RandomHorizontalFlip(p=0.5),\n",
    "    transforms.ToTensor(),\n",
    "    transforms.Normalize(mean=image_processor_Vit.image_mean, std=image_processor_Vit.image_std),\n",
    "])\n",
    "\n",
    "def transforms_image_Vit(examples):\n",
    "    examples[\"pixel_values\"] = [transforms_ViT_(image.convert(\"RGB\")) for image in examples[\"image\"]]\n",
    "    return examples\n",
    "\n",
    "transforms_Swin_ = transforms.Compose([\n",
    "    transforms.Resize([image_processor_swin.size[\"height\"], image_processor_swin.size[\"width\"]]),\n",
    "    transforms.RandomHorizontalFlip(p=0.5),\n",
    "    transforms.ToTensor(),\n",
    "    transforms.Normalize(mean=image_processor_swin.image_mean, std=image_processor_swin.image_std),\n",
    "])\n",
    "\n",
    "def transforms_image_Swin(examples):\n",
    "    examples[\"pixel_values\"] = [transforms_Swin_(image.convert(\"RGB\")) for image in examples[\"image\"]]\n",
    "    return examples\n",
    "\n",
    "test_swin = (dataset[\"test\"]).with_transform(transforms_image_Swin)\n",
    "test_Vit = (dataset[\"test\"]).with_transform(transforms_image_Vit)\n",
    "\n",
    "\n"
   ]
  },
  {
   "cell_type": "code",
   "execution_count": 35,
   "metadata": {},
   "outputs": [
    {
     "ename": "AttributeError",
     "evalue": "'Dataset' object has no attribute 'copy'",
     "output_type": "error",
     "traceback": [
      "\u001b[0;31m---------------------------------------------------------------------------\u001b[0m",
      "\u001b[0;31mAttributeError\u001b[0m                            Traceback (most recent call last)",
      "Cell \u001b[0;32mIn[35], line 1\u001b[0m\n\u001b[0;32m----> 1\u001b[0m test_ds \u001b[38;5;241m=\u001b[39m \u001b[43mdataset\u001b[49m\u001b[43m[\u001b[49m\u001b[38;5;124;43m\"\u001b[39;49m\u001b[38;5;124;43mtest\u001b[39;49m\u001b[38;5;124;43m\"\u001b[39;49m\u001b[43m]\u001b[49m\u001b[38;5;241;43m.\u001b[39;49m\u001b[43mcopy\u001b[49m()\n",
      "\u001b[0;31mAttributeError\u001b[0m: 'Dataset' object has no attribute 'copy'"
     ]
    }
   ],
   "source": [
    "\n",
    "test_ds = dataset[\"test\"].copy()"
   ]
  },
  {
   "cell_type": "code",
   "execution_count": 36,
   "metadata": {},
   "outputs": [
    {
     "data": {
      "text/plain": [
       "['_TF_DATASET_REFS',\n",
       " '__class__',\n",
       " '__del__',\n",
       " '__delattr__',\n",
       " '__dict__',\n",
       " '__dir__',\n",
       " '__doc__',\n",
       " '__enter__',\n",
       " '__eq__',\n",
       " '__exit__',\n",
       " '__format__',\n",
       " '__ge__',\n",
       " '__getattribute__',\n",
       " '__getitem__',\n",
       " '__getitems__',\n",
       " '__getstate__',\n",
       " '__gt__',\n",
       " '__hash__',\n",
       " '__init__',\n",
       " '__init_subclass__',\n",
       " '__iter__',\n",
       " '__le__',\n",
       " '__len__',\n",
       " '__lt__',\n",
       " '__module__',\n",
       " '__ne__',\n",
       " '__new__',\n",
       " '__reduce__',\n",
       " '__reduce_ex__',\n",
       " '__repr__',\n",
       " '__setattr__',\n",
       " '__setstate__',\n",
       " '__sizeof__',\n",
       " '__slotnames__',\n",
       " '__str__',\n",
       " '__subclasshook__',\n",
       " '__weakref__',\n",
       " '_build_local_temp_path',\n",
       " '_check_index_is_initialized',\n",
       " '_data',\n",
       " '_estimate_nbytes',\n",
       " '_fingerprint',\n",
       " '_format_columns',\n",
       " '_format_kwargs',\n",
       " '_format_type',\n",
       " '_generate_tables_from_cache_file',\n",
       " '_generate_tables_from_shards',\n",
       " '_get_cache_file_path',\n",
       " '_get_output_signature',\n",
       " '_getitem',\n",
       " '_indexes',\n",
       " '_indices',\n",
       " '_info',\n",
       " '_map_single',\n",
       " '_new_dataset_with_indices',\n",
       " '_output_all_columns',\n",
       " '_push_parquet_shards_to_hub',\n",
       " '_save_to_disk_single',\n",
       " '_select_contiguous',\n",
       " '_select_with_indices_mapping',\n",
       " '_split',\n",
       " 'add_column',\n",
       " 'add_elasticsearch_index',\n",
       " 'add_faiss_index',\n",
       " 'add_faiss_index_from_external_arrays',\n",
       " 'add_item',\n",
       " 'align_labels_with_mapping',\n",
       " 'builder_name',\n",
       " 'cache_files',\n",
       " 'cast',\n",
       " 'cast_column',\n",
       " 'citation',\n",
       " 'class_encode_column',\n",
       " 'cleanup_cache_files',\n",
       " 'column_names',\n",
       " 'config_name',\n",
       " 'data',\n",
       " 'dataset_size',\n",
       " 'description',\n",
       " 'download_checksums',\n",
       " 'download_size',\n",
       " 'drop_index',\n",
       " 'export',\n",
       " 'features',\n",
       " 'filter',\n",
       " 'flatten',\n",
       " 'flatten_indices',\n",
       " 'format',\n",
       " 'formatted_as',\n",
       " 'from_buffer',\n",
       " 'from_csv',\n",
       " 'from_dict',\n",
       " 'from_file',\n",
       " 'from_generator',\n",
       " 'from_json',\n",
       " 'from_list',\n",
       " 'from_pandas',\n",
       " 'from_parquet',\n",
       " 'from_spark',\n",
       " 'from_sql',\n",
       " 'from_text',\n",
       " 'get_index',\n",
       " 'get_nearest_examples',\n",
       " 'get_nearest_examples_batch',\n",
       " 'homepage',\n",
       " 'info',\n",
       " 'is_index_initialized',\n",
       " 'iter',\n",
       " 'license',\n",
       " 'list_indexes',\n",
       " 'load_elasticsearch_index',\n",
       " 'load_faiss_index',\n",
       " 'load_from_disk',\n",
       " 'map',\n",
       " 'num_columns',\n",
       " 'num_rows',\n",
       " 'prepare_for_task',\n",
       " 'push_to_hub',\n",
       " 'remove_columns',\n",
       " 'rename_column',\n",
       " 'rename_columns',\n",
       " 'reset_format',\n",
       " 'save_faiss_index',\n",
       " 'save_to_disk',\n",
       " 'search',\n",
       " 'search_batch',\n",
       " 'select',\n",
       " 'select_columns',\n",
       " 'set_format',\n",
       " 'set_transform',\n",
       " 'shape',\n",
       " 'shard',\n",
       " 'shuffle',\n",
       " 'size_in_bytes',\n",
       " 'sort',\n",
       " 'split',\n",
       " 'supervised_keys',\n",
       " 'task_templates',\n",
       " 'to_csv',\n",
       " 'to_dict',\n",
       " 'to_iterable_dataset',\n",
       " 'to_json',\n",
       " 'to_list',\n",
       " 'to_pandas',\n",
       " 'to_parquet',\n",
       " 'to_sql',\n",
       " 'to_tf_dataset',\n",
       " 'train_test_split',\n",
       " 'unique',\n",
       " 'version',\n",
       " 'with_format',\n",
       " 'with_transform']"
      ]
     },
     "execution_count": 36,
     "metadata": {},
     "output_type": "execute_result"
    }
   ],
   "source": [
    "dir(dataset[\"test\"])"
   ]
  },
  {
   "cell_type": "code",
   "execution_count": 10,
   "metadata": {},
   "outputs": [
    {
     "data": {
      "text/plain": [
       "([0, 1, 2, 3, 4, 5, 6, 7, 8, 9, 10, 11, 12, 13, 14, 15, 16, 17, 18],\n",
       " [Text(0, 0, 'Line graph_chart'),\n",
       "  Text(1, 0, 'NLP text_grammar_eg'),\n",
       "  Text(2, 0, 'Screenshots'),\n",
       "  Text(3, 0, 'algorithms'),\n",
       "  Text(4, 0, 'architecture diagram'),\n",
       "  Text(5, 0, 'bar charts'),\n",
       "  Text(6, 0, 'boxplots'),\n",
       "  Text(7, 0, 'confusion matrix'),\n",
       "  Text(8, 0, 'graph'),\n",
       "  Text(9, 0, 'maps'),\n",
       "  Text(10, 0, 'natural images'),\n",
       "  Text(11, 0, 'neural networks'),\n",
       "  Text(12, 0, 'pareto'),\n",
       "  Text(13, 0, 'pie chart'),\n",
       "  Text(14, 0, 'scatter plot'),\n",
       "  Text(15, 0, 'tables'),\n",
       "  Text(16, 0, 'trees'),\n",
       "  Text(17, 0, 'venn diagram'),\n",
       "  Text(18, 0, 'word cloud')])"
      ]
     },
     "execution_count": 10,
     "metadata": {},
     "output_type": "execute_result"
    },
    {
     "data": {
      "image/png": "[encoded data removed]",
      "text/plain": [
       "<Figure size 640x480 with 1 Axes>"
      ]
     },
     "metadata": {},
     "output_type": "display_data"
    }
   ],
   "source": [
    "import pandas as pd\n",
    "import numpy as np\n",
    "import matplotlib.pyplot as plt\n",
    "df = pd.read_csv(\"/lstr/sahara/datalab-ml/z1974769/scientific_figures_pilot.csv\")\n",
    "plt.hist(sorted(df[\"label\"]), bins = len(df[\"label\"].unique()), width=0.8)\n",
    "plt.xticks(rotation=90)"
   ]
  },
  {
   "cell_type": "code",
   "execution_count": 1,
   "metadata": {},
   "outputs": [],
   "source": [
    "import pandas as pd\n",
    "import numpy as np\n",
    "\n",
    "df1 = pd.read_csv(\"/lstr/sahara/datalab-ml/z1974769/outputs_pdffigures/real_outputs/all_files_data_combined_with_predictions.csv\")"
   ]
  },
  {
   "cell_type": "code",
   "execution_count": 2,
   "metadata": {},
   "outputs": [
    {
     "data": {
      "text/html": [
       "<div>\n",
       "<style scoped>\n",
       "    .dataframe tbody tr th:only-of-type {\n",
       "        vertical-align: middle;\n",
       "    }\n",
       "\n",
       "    .dataframe tbody tr th {\n",
       "        vertical-align: top;\n",
       "    }\n",
       "\n",
       "    .dataframe thead th {\n",
       "        text-align: right;\n",
       "    }\n",
       "</style>\n",
       "<table border=\"1\" class=\"dataframe\">\n",
       "  <thead>\n",
       "    <tr style=\"text-align: right;\">\n",
       "      <th></th>\n",
       "      <th>imageText</th>\n",
       "      <th>name</th>\n",
       "      <th>page</th>\n",
       "      <th>figType</th>\n",
       "      <th>captionBoundary</th>\n",
       "      <th>renderDpi</th>\n",
       "      <th>renderURL</th>\n",
       "      <th>regionBoundary</th>\n",
       "      <th>caption</th>\n",
       "      <th>Fig_name</th>\n",
       "      <th>Swin_prediction</th>\n",
       "      <th>Swin_confidence</th>\n",
       "      <th>Goolge_ViT_prediction</th>\n",
       "      <th>Goolge_ViT_confidence</th>\n",
       "    </tr>\n",
       "  </thead>\n",
       "  <tbody>\n",
       "    <tr>\n",
       "      <th>0</th>\n",
       "      <td>['Γ⇒', '∆;Π', 'N', '−', 'cut', 'Γ⇒', '∆,', 'x'...</td>\n",
       "      <td>3</td>\n",
       "      <td>14</td>\n",
       "      <td>Figure</td>\n",
       "      <td>{'x1': 124.79974365234375, 'x2': 470.477355957...</td>\n",
       "      <td>150</td>\n",
       "      <td>/lstr/sahara/datalab-ml/z1974769/outputs_pdffi...</td>\n",
       "      <td>{'x1': 128.64, 'x2': 483.35999999999996, 'y1':...</td>\n",
       "      <td>Figure 3: Ecumenical pure modal system labEK. ...</td>\n",
       "      <td>figure_images2204.02076-Figure3-1.png</td>\n",
       "      <td>trees</td>\n",
       "      <td>0.558751</td>\n",
       "      <td>scatter plot</td>\n",
       "      <td>0.086721</td>\n",
       "    </tr>\n",
       "    <tr>\n",
       "      <th>1</th>\n",
       "      <td>['Γ⇒', '∆;Π', 'N', '−', 'cut', 'Γ⇒', '∆,N;Π∗',...</td>\n",
       "      <td>2</td>\n",
       "      <td>6</td>\n",
       "      <td>Figure</td>\n",
       "      <td>{'x1': 124.80010986328125, 'x2': 468.516174316...</td>\n",
       "      <td>150</td>\n",
       "      <td>/lstr/sahara/datalab-ml/z1974769/outputs_pdffi...</td>\n",
       "      <td>{'x1': 145.92, 'x2': 446.88, 'y1': 447.84, 'y2...</td>\n",
       "      <td>Figure 2: Ecumenical pure system LCE. In rules...</td>\n",
       "      <td>figure_images2204.02076-Figure2-1.png</td>\n",
       "      <td>trees</td>\n",
       "      <td>0.488079</td>\n",
       "      <td>boxplots</td>\n",
       "      <td>0.100870</td>\n",
       "    </tr>\n",
       "    <tr>\n",
       "      <th>2</th>\n",
       "      <td>['∆1{', 'A•,', '[A•,∆2]}', '∆1{', 'A•,', '[∆2]...</td>\n",
       "      <td>5</td>\n",
       "      <td>21</td>\n",
       "      <td>Figure</td>\n",
       "      <td>{'x1': 219.60032653808594, 'x2': 373.651062011...</td>\n",
       "      <td>150</td>\n",
       "      <td>/lstr/sahara/datalab-ml/z1974769/outputs_pdffi...</td>\n",
       "      <td>{'x1': 123.83999999999999, 'x2': 473.76, 'y1':...</td>\n",
       "      <td>Figure 5: Intuitionistic fragment nEKi.</td>\n",
       "      <td>figure_images2204.02076-Figure5-1.png</td>\n",
       "      <td>tables</td>\n",
       "      <td>0.883903</td>\n",
       "      <td>trees</td>\n",
       "      <td>0.176683</td>\n",
       "    </tr>\n",
       "    <tr>\n",
       "      <th>3</th>\n",
       "      <td>['Γ⊥', '◦', '{P▽}', 'D', 'Λ{N▽,⊥◦}', 'Λ{N◦}', ...</td>\n",
       "      <td>6</td>\n",
       "      <td>21</td>\n",
       "      <td>Figure</td>\n",
       "      <td>{'x1': 226.56011962890625, 'x2': 366.810882568...</td>\n",
       "      <td>150</td>\n",
       "      <td>/lstr/sahara/datalab-ml/z1974769/outputs_pdffi...</td>\n",
       "      <td>{'x1': 148.79999999999998, 'x2': 453.12, 'y1':...</td>\n",
       "      <td>Figure 6: Classical fragment nEKc.</td>\n",
       "      <td>figure_images2204.02076-Figure6-1.png</td>\n",
       "      <td>tables</td>\n",
       "      <td>0.953753</td>\n",
       "      <td>NLP text_grammar_eg</td>\n",
       "      <td>0.209699</td>\n",
       "    </tr>\n",
       "    <tr>\n",
       "      <th>4</th>\n",
       "      <td>['4', ':', 'A→', 'A', '∧', '♦♦A→', '♦A', 'Tran...</td>\n",
       "      <td>1</td>\n",
       "      <td>22</td>\n",
       "      <td>Table</td>\n",
       "      <td>{'x1': 170.16000366210938, 'x2': 423.209594726...</td>\n",
       "      <td>150</td>\n",
       "      <td>/lstr/sahara/datalab-ml/z1974769/outputs_pdffi...</td>\n",
       "      <td>{'x1': 123.83999999999999, 'x2': 470.4, 'y1': ...</td>\n",
       "      <td>Table 1: Axioms and corresponding first-order ...</td>\n",
       "      <td>figure_images2204.02076-Table1-1.png</td>\n",
       "      <td>tables</td>\n",
       "      <td>0.997770</td>\n",
       "      <td>NLP text_grammar_eg</td>\n",
       "      <td>0.114627</td>\n",
       "    </tr>\n",
       "    <tr>\n",
       "      <th>...</th>\n",
       "      <td>...</td>\n",
       "      <td>...</td>\n",
       "      <td>...</td>\n",
       "      <td>...</td>\n",
       "      <td>...</td>\n",
       "      <td>...</td>\n",
       "      <td>...</td>\n",
       "      <td>...</td>\n",
       "      <td>...</td>\n",
       "      <td>...</td>\n",
       "      <td>...</td>\n",
       "      <td>...</td>\n",
       "      <td>...</td>\n",
       "      <td>...</td>\n",
       "    </tr>\n",
       "    <tr>\n",
       "      <th>37726</th>\n",
       "      <td>['CPH', '74.34', '(73.97,', '74.71)', '82.79',...</td>\n",
       "      <td>4</td>\n",
       "      <td>16</td>\n",
       "      <td>Table</td>\n",
       "      <td>{'x1': 133.46400451660156, 'x2': 477.783142089...</td>\n",
       "      <td>150</td>\n",
       "      <td>/lstr/sahara/datalab-ml/z1974769/outputs_pdffi...</td>\n",
       "      <td>{'x1': 132.96, 'x2': 478.08, 'y1': 543.36, 'y2...</td>\n",
       "      <td>Table 4: The CIec values (%) of the compared m...</td>\n",
       "      <td>figure_images2203.00144-Table4-1.png</td>\n",
       "      <td>NLP text_grammar_eg</td>\n",
       "      <td>0.701335</td>\n",
       "      <td>NLP text_grammar_eg</td>\n",
       "      <td>0.180838</td>\n",
       "    </tr>\n",
       "    <tr>\n",
       "      <th>37727</th>\n",
       "      <td>['CPH', '56.38', '(56.08,', '56.65)', '57.48',...</td>\n",
       "      <td>3</td>\n",
       "      <td>16</td>\n",
       "      <td>Table</td>\n",
       "      <td>{'x1': 133.46400451660156, 'x2': 477.785766601...</td>\n",
       "      <td>150</td>\n",
       "      <td>/lstr/sahara/datalab-ml/z1974769/outputs_pdffi...</td>\n",
       "      <td>{'x1': 132.96, 'x2': 478.08, 'y1': 365.76, 'y2...</td>\n",
       "      <td>Table 3: The CIee values (%) of the compared m...</td>\n",
       "      <td>figure_images2203.00144-Table3-1.png</td>\n",
       "      <td>NLP text_grammar_eg</td>\n",
       "      <td>0.776761</td>\n",
       "      <td>tables</td>\n",
       "      <td>0.295294</td>\n",
       "    </tr>\n",
       "    <tr>\n",
       "      <th>37728</th>\n",
       "      <td>['CPH', '72.91', '(72.57,', '73.25)', '78.37',...</td>\n",
       "      <td>2</td>\n",
       "      <td>16</td>\n",
       "      <td>Table</td>\n",
       "      <td>{'x1': 133.46400451660156, 'x2': 477.482330322...</td>\n",
       "      <td>150</td>\n",
       "      <td>/lstr/sahara/datalab-ml/z1974769/outputs_pdffi...</td>\n",
       "      <td>{'x1': 132.96, 'x2': 478.08, 'y1': 188.64, 'y2...</td>\n",
       "      <td>Table 2: The C-index (CI) values (%) of the co...</td>\n",
       "      <td>figure_images2203.00144-Table2-1.png</td>\n",
       "      <td>NLP text_grammar_eg</td>\n",
       "      <td>0.709978</td>\n",
       "      <td>tables</td>\n",
       "      <td>0.278061</td>\n",
       "    </tr>\n",
       "    <tr>\n",
       "      <th>37729</th>\n",
       "      <td>['SurVED', 'DeepSurv', 'DeepHit', 'DATE', 'VSI...</td>\n",
       "      <td>3</td>\n",
       "      <td>19</td>\n",
       "      <td>Figure</td>\n",
       "      <td>{'x1': 133.54800415039062, 'x2': 478.472991943...</td>\n",
       "      <td>150</td>\n",
       "      <td>/lstr/sahara/datalab-ml/z1974769/outputs_pdffi...</td>\n",
       "      <td>{'x1': 136.79999999999998, 'x2': 479.52, 'y1':...</td>\n",
       "      <td>Figure 3: The change of CI as the size of the ...</td>\n",
       "      <td>figure_images2203.00144-Figure3-1.png</td>\n",
       "      <td>Line graph_chart</td>\n",
       "      <td>0.991793</td>\n",
       "      <td>Line graph_chart</td>\n",
       "      <td>0.248897</td>\n",
       "    </tr>\n",
       "    <tr>\n",
       "      <th>37730</th>\n",
       "      <td>['(d)', 'α-Deviation', 'Win', 'Lose', 'Draw', ...</td>\n",
       "      <td>2</td>\n",
       "      <td>15</td>\n",
       "      <td>Figure</td>\n",
       "      <td>{'x1': 133.76800537109375, 'x2': 477.476013183...</td>\n",
       "      <td>150</td>\n",
       "      <td>/lstr/sahara/datalab-ml/z1974769/outputs_pdffi...</td>\n",
       "      <td>{'x1': 145.44, 'x2': 477.12, 'y1': 128.64, 'y2...</td>\n",
       "      <td>Figure 2: The Win/Lose/Draw comparison based o...</td>\n",
       "      <td>figure_images2203.00144-Figure2-1.png</td>\n",
       "      <td>bar charts</td>\n",
       "      <td>0.995356</td>\n",
       "      <td>bar charts</td>\n",
       "      <td>0.213675</td>\n",
       "    </tr>\n",
       "  </tbody>\n",
       "</table>\n",
       "<p>37731 rows × 14 columns</p>\n",
       "</div>"
      ],
      "text/plain": [
       "                                               imageText name  page figType  \\\n",
       "0      ['Γ⇒', '∆;Π', 'N', '−', 'cut', 'Γ⇒', '∆,', 'x'...    3    14  Figure   \n",
       "1      ['Γ⇒', '∆;Π', 'N', '−', 'cut', 'Γ⇒', '∆,N;Π∗',...    2     6  Figure   \n",
       "2      ['∆1{', 'A•,', '[A•,∆2]}', '∆1{', 'A•,', '[∆2]...    5    21  Figure   \n",
       "3      ['Γ⊥', '◦', '{P▽}', 'D', 'Λ{N▽,⊥◦}', 'Λ{N◦}', ...    6    21  Figure   \n",
       "4      ['4', ':', 'A→', 'A', '∧', '♦♦A→', '♦A', 'Tran...    1    22   Table   \n",
       "...                                                  ...  ...   ...     ...   \n",
       "37726  ['CPH', '74.34', '(73.97,', '74.71)', '82.79',...    4    16   Table   \n",
       "37727  ['CPH', '56.38', '(56.08,', '56.65)', '57.48',...    3    16   Table   \n",
       "37728  ['CPH', '72.91', '(72.57,', '73.25)', '78.37',...    2    16   Table   \n",
       "37729  ['SurVED', 'DeepSurv', 'DeepHit', 'DATE', 'VSI...    3    19  Figure   \n",
       "37730  ['(d)', 'α-Deviation', 'Win', 'Lose', 'Draw', ...    2    15  Figure   \n",
       "\n",
       "                                         captionBoundary  renderDpi  \\\n",
       "0      {'x1': 124.79974365234375, 'x2': 470.477355957...        150   \n",
       "1      {'x1': 124.80010986328125, 'x2': 468.516174316...        150   \n",
       "2      {'x1': 219.60032653808594, 'x2': 373.651062011...        150   \n",
       "3      {'x1': 226.56011962890625, 'x2': 366.810882568...        150   \n",
       "4      {'x1': 170.16000366210938, 'x2': 423.209594726...        150   \n",
       "...                                                  ...        ...   \n",
       "37726  {'x1': 133.46400451660156, 'x2': 477.783142089...        150   \n",
       "37727  {'x1': 133.46400451660156, 'x2': 477.785766601...        150   \n",
       "37728  {'x1': 133.46400451660156, 'x2': 477.482330322...        150   \n",
       "37729  {'x1': 133.54800415039062, 'x2': 478.472991943...        150   \n",
       "37730  {'x1': 133.76800537109375, 'x2': 477.476013183...        150   \n",
       "\n",
       "                                               renderURL  \\\n",
       "0      /lstr/sahara/datalab-ml/z1974769/outputs_pdffi...   \n",
       "1      /lstr/sahara/datalab-ml/z1974769/outputs_pdffi...   \n",
       "2      /lstr/sahara/datalab-ml/z1974769/outputs_pdffi...   \n",
       "3      /lstr/sahara/datalab-ml/z1974769/outputs_pdffi...   \n",
       "4      /lstr/sahara/datalab-ml/z1974769/outputs_pdffi...   \n",
       "...                                                  ...   \n",
       "37726  /lstr/sahara/datalab-ml/z1974769/outputs_pdffi...   \n",
       "37727  /lstr/sahara/datalab-ml/z1974769/outputs_pdffi...   \n",
       "37728  /lstr/sahara/datalab-ml/z1974769/outputs_pdffi...   \n",
       "37729  /lstr/sahara/datalab-ml/z1974769/outputs_pdffi...   \n",
       "37730  /lstr/sahara/datalab-ml/z1974769/outputs_pdffi...   \n",
       "\n",
       "                                          regionBoundary  \\\n",
       "0      {'x1': 128.64, 'x2': 483.35999999999996, 'y1':...   \n",
       "1      {'x1': 145.92, 'x2': 446.88, 'y1': 447.84, 'y2...   \n",
       "2      {'x1': 123.83999999999999, 'x2': 473.76, 'y1':...   \n",
       "3      {'x1': 148.79999999999998, 'x2': 453.12, 'y1':...   \n",
       "4      {'x1': 123.83999999999999, 'x2': 470.4, 'y1': ...   \n",
       "...                                                  ...   \n",
       "37726  {'x1': 132.96, 'x2': 478.08, 'y1': 543.36, 'y2...   \n",
       "37727  {'x1': 132.96, 'x2': 478.08, 'y1': 365.76, 'y2...   \n",
       "37728  {'x1': 132.96, 'x2': 478.08, 'y1': 188.64, 'y2...   \n",
       "37729  {'x1': 136.79999999999998, 'x2': 479.52, 'y1':...   \n",
       "37730  {'x1': 145.44, 'x2': 477.12, 'y1': 128.64, 'y2...   \n",
       "\n",
       "                                                 caption  \\\n",
       "0      Figure 3: Ecumenical pure modal system labEK. ...   \n",
       "1      Figure 2: Ecumenical pure system LCE. In rules...   \n",
       "2                Figure 5: Intuitionistic fragment nEKi.   \n",
       "3                     Figure 6: Classical fragment nEKc.   \n",
       "4      Table 1: Axioms and corresponding first-order ...   \n",
       "...                                                  ...   \n",
       "37726  Table 4: The CIec values (%) of the compared m...   \n",
       "37727  Table 3: The CIee values (%) of the compared m...   \n",
       "37728  Table 2: The C-index (CI) values (%) of the co...   \n",
       "37729  Figure 3: The change of CI as the size of the ...   \n",
       "37730  Figure 2: The Win/Lose/Draw comparison based o...   \n",
       "\n",
       "                                    Fig_name      Swin_prediction  \\\n",
       "0      figure_images2204.02076-Figure3-1.png                trees   \n",
       "1      figure_images2204.02076-Figure2-1.png                trees   \n",
       "2      figure_images2204.02076-Figure5-1.png               tables   \n",
       "3      figure_images2204.02076-Figure6-1.png               tables   \n",
       "4       figure_images2204.02076-Table1-1.png               tables   \n",
       "...                                      ...                  ...   \n",
       "37726   figure_images2203.00144-Table4-1.png  NLP text_grammar_eg   \n",
       "37727   figure_images2203.00144-Table3-1.png  NLP text_grammar_eg   \n",
       "37728   figure_images2203.00144-Table2-1.png  NLP text_grammar_eg   \n",
       "37729  figure_images2203.00144-Figure3-1.png     Line graph_chart   \n",
       "37730  figure_images2203.00144-Figure2-1.png           bar charts   \n",
       "\n",
       "       Swin_confidence Goolge_ViT_prediction  Goolge_ViT_confidence  \n",
       "0             0.558751          scatter plot               0.086721  \n",
       "1             0.488079              boxplots               0.100870  \n",
       "2             0.883903                 trees               0.176683  \n",
       "3             0.953753   NLP text_grammar_eg               0.209699  \n",
       "4             0.997770   NLP text_grammar_eg               0.114627  \n",
       "...                ...                   ...                    ...  \n",
       "37726         0.701335   NLP text_grammar_eg               0.180838  \n",
       "37727         0.776761                tables               0.295294  \n",
       "37728         0.709978                tables               0.278061  \n",
       "37729         0.991793      Line graph_chart               0.248897  \n",
       "37730         0.995356            bar charts               0.213675  \n",
       "\n",
       "[37731 rows x 14 columns]"
      ]
     },
     "execution_count": 2,
     "metadata": {},
     "output_type": "execute_result"
    }
   ],
   "source": [
    "df1"
   ]
  },
  {
   "cell_type": "code",
   "execution_count": 6,
   "metadata": {},
   "outputs": [
    {
     "data": {
      "text/plain": [
       "11289"
      ]
     },
     "execution_count": 6,
     "metadata": {},
     "output_type": "execute_result"
    }
   ],
   "source": [
    "len(df1[df1[\"Fig_name\"].str.contains(\"Table\")])"
   ]
  },
  {
   "cell_type": "code",
   "execution_count": 8,
   "metadata": {},
   "outputs": [
    {
     "data": {
      "text/plain": [
       "([0, 1, 2, 3, 4, 5, 6, 7, 8, 9, 10, 11, 12, 13, 14, 15, 16, 17, 18],\n",
       " [Text(0, 0, 'Line graph_chart'),\n",
       "  Text(1, 0, 'NLP text_grammar_eg'),\n",
       "  Text(2, 0, 'Screenshots'),\n",
       "  Text(3, 0, 'algorithms'),\n",
       "  Text(4, 0, 'architecture diagram'),\n",
       "  Text(5, 0, 'bar charts'),\n",
       "  Text(6, 0, 'boxplots'),\n",
       "  Text(7, 0, 'confusion matrix'),\n",
       "  Text(8, 0, 'graph'),\n",
       "  Text(9, 0, 'maps'),\n",
       "  Text(10, 0, 'natural images'),\n",
       "  Text(11, 0, 'neural networks'),\n",
       "  Text(12, 0, 'pareto'),\n",
       "  Text(13, 0, 'pie chart'),\n",
       "  Text(14, 0, 'scatter plot'),\n",
       "  Text(15, 0, 'tables'),\n",
       "  Text(16, 0, 'trees'),\n",
       "  Text(17, 0, 'venn diagram'),\n",
       "  Text(18, 0, 'word cloud')])"
      ]
     },
     "execution_count": 8,
     "metadata": {},
     "output_type": "execute_result"
    },
    {
     "data": {
      "image/png": "[encoded data removed]",
      "text/plain": [
       "<Figure size 640x480 with 1 Axes>"
      ]
     },
     "metadata": {},
     "output_type": "display_data"
    }
   ],
   "source": [
    "import matplotlib.pyplot as plt\n",
    "plt.hist(sorted(df1[\"Swin_prediction\"]), bins = len(df1[\"Swin_prediction\"].unique()), width=0.8)\n",
    "plt.ylim(0, 11000)\n",
    "plt.yticks(range(0, 11001, 1000))\n",
    "plt.xticks(rotation=90)"
   ]
  },
  {
   "cell_type": "code",
   "execution_count": 9,
   "metadata": {},
   "outputs": [
    {
     "data": {
      "text/plain": [
       "([0, 1, 2, 3, 4, 5, 6, 7, 8, 9, 10, 11, 12, 13, 14, 15, 16, 17],\n",
       " [Text(0, 0, 'Line graph_chart'),\n",
       "  Text(1, 0, 'NLP text_grammar_eg'),\n",
       "  Text(2, 0, 'Screenshots'),\n",
       "  Text(3, 0, 'algorithms'),\n",
       "  Text(4, 0, 'architecture diagram'),\n",
       "  Text(5, 0, 'bar charts'),\n",
       "  Text(6, 0, 'boxplots'),\n",
       "  Text(7, 0, 'confusion matrix'),\n",
       "  Text(8, 0, 'graph'),\n",
       "  Text(9, 0, 'maps'),\n",
       "  Text(10, 0, 'natural images'),\n",
       "  Text(11, 0, 'neural networks'),\n",
       "  Text(12, 0, 'pie chart'),\n",
       "  Text(13, 0, 'scatter plot'),\n",
       "  Text(14, 0, 'tables'),\n",
       "  Text(15, 0, 'trees'),\n",
       "  Text(16, 0, 'venn diagram'),\n",
       "  Text(17, 0, 'word cloud')])"
      ]
     },
     "execution_count": 9,
     "metadata": {},
     "output_type": "execute_result"
    },
    {
     "data": {
      "image/png": "[encoded data removed]",
      "text/plain": [
       "<Figure size 640x480 with 1 Axes>"
      ]
     },
     "metadata": {},
     "output_type": "display_data"
    }
   ],
   "source": [
    "plt.hist(sorted(df1[\"Goolge_ViT_prediction\"]), bins = len(df1[\"Goolge_ViT_prediction\"].unique()), width=0.8)\n",
    "plt.ylim(0, 11000)\n",
    "plt.yticks(range(0, 11001, 1000))\n",
    "plt.xticks(rotation=90)"
   ]
  },
  {
   "cell_type": "code",
   "execution_count": 10,
   "metadata": {},
   "outputs": [
    {
     "data": {
      "text/plain": [
       "37731"
      ]
     },
     "execution_count": 10,
     "metadata": {},
     "output_type": "execute_result"
    }
   ],
   "source": [
    "len(df1)"
   ]
  },
  {
   "cell_type": "code",
   "execution_count": 8,
   "metadata": {},
   "outputs": [
    {
     "name": "stdout",
     "output_type": "stream",
     "text": [
      "              precision    recall  f1-score   support\n",
      "\n",
      "           0       0.91      1.00      0.95        20\n",
      "           1       0.82      0.90      0.86        20\n",
      "           2       0.95      0.95      0.95        20\n",
      "           3       0.77      0.85      0.81        20\n",
      "           4       0.94      0.81      0.87        21\n",
      "           5       0.95      0.95      0.95        21\n",
      "           6       0.75      0.43      0.55         7\n",
      "           7       0.96      1.00      0.98        23\n",
      "           8       0.92      1.00      0.96        22\n",
      "           9       1.00      0.90      0.95        10\n",
      "          10       0.96      1.00      0.98        25\n",
      "          11       0.72      1.00      0.84        21\n",
      "          12       1.00      1.00      1.00         1\n",
      "          13       1.00      1.00      1.00        20\n",
      "          14       1.00      1.00      1.00        13\n",
      "          15       1.00      0.75      0.86        20\n",
      "          16       0.97      0.89      0.93        44\n",
      "          17       1.00      0.50      0.67         2\n",
      "          18       1.00      0.80      0.89         5\n",
      "\n",
      "    accuracy                           0.92       335\n",
      "   macro avg       0.93      0.88      0.89       335\n",
      "weighted avg       0.92      0.92      0.91       335\n",
      "\n"
     ]
    }
   ],
   "source": [
    "print('              precision    recall  f1-score   support\\n\\n           0       0.91      1.00      0.95        20\\n           1       0.82      0.90      0.86        20\\n           2       0.95      0.95      0.95        20\\n           3       0.77      0.85      0.81        20\\n           4       0.94      0.81      0.87        21\\n           5       0.95      0.95      0.95        21\\n           6       0.75      0.43      0.55         7\\n           7       0.96      1.00      0.98        23\\n           8       0.92      1.00      0.96        22\\n           9       1.00      0.90      0.95        10\\n          10       0.96      1.00      0.98        25\\n          11       0.72      1.00      0.84        21\\n          12       1.00      1.00      1.00         1\\n          13       1.00      1.00      1.00        20\\n          14       1.00      1.00      1.00        13\\n          15       1.00      0.75      0.86        20\\n          16       0.97      0.89      0.93        44\\n          17       1.00      0.50      0.67         2\\n          18       1.00      0.80      0.89         5\\n\\n    accuracy                           0.92       335\\n   macro avg       0.93      0.88      0.89       335\\nweighted avg       0.92      0.92      0.91       335\\n')"
   ]
  },
  {
   "cell_type": "code",
   "execution_count": 9,
   "metadata": {},
   "outputs": [],
   "source": [
    "df2 = pd.read_csv(\"/lstr/sahara/datalab-ml/z1974769/scientific_figures_pilot.csv\")"
   ]
  },
  {
   "cell_type": "code",
   "execution_count": 12,
   "metadata": {},
   "outputs": [
    {
     "data": {
      "text/plain": [
       "([0, 1, 2, 3, 4, 5, 6, 7, 8, 9, 10, 11, 12, 13, 14, 15, 16, 17, 18],\n",
       " [Text(0, 0, 'Line graph_chart'),\n",
       "  Text(1, 0, 'NLP text_grammar_eg'),\n",
       "  Text(2, 0, 'Screenshots'),\n",
       "  Text(3, 0, 'algorithms'),\n",
       "  Text(4, 0, 'architecture diagram'),\n",
       "  Text(5, 0, 'bar charts'),\n",
       "  Text(6, 0, 'boxplots'),\n",
       "  Text(7, 0, 'confusion matrix'),\n",
       "  Text(8, 0, 'graph'),\n",
       "  Text(9, 0, 'maps'),\n",
       "  Text(10, 0, 'natural images'),\n",
       "  Text(11, 0, 'neural networks'),\n",
       "  Text(12, 0, 'pareto'),\n",
       "  Text(13, 0, 'pie chart'),\n",
       "  Text(14, 0, 'scatter plot'),\n",
       "  Text(15, 0, 'tables'),\n",
       "  Text(16, 0, 'trees'),\n",
       "  Text(17, 0, 'venn diagram'),\n",
       "  Text(18, 0, 'word cloud')])"
      ]
     },
     "execution_count": 12,
     "metadata": {},
     "output_type": "execute_result"
    },
    {
     "data": {
      "image/png": "[encoded data removed]",
      "text/plain": [
       "<Figure size 640x480 with 1 Axes>"
      ]
     },
     "metadata": {},
     "output_type": "display_data"
    }
   ],
   "source": [
    "import matplotlib.pyplot as plt\n",
    "plt.hist(sorted(df2[\"label\"]), bins = len(df2[\"label\"].unique()), width=0.8)\n",
    "# plt.ylim(0, 11000)\n",
    "# plt.yticks(range(0, 11001, 1000))\n",
    "plt.xticks(rotation=90)"
   ]
  },
  {
   "cell_type": "code",
   "execution_count": null,
   "metadata": {},
   "outputs": [],
   "source": []
  }
 ],
 "metadata": {
  "kernelspec": {
   "display_name": "condavisionenv",
   "language": "python",
   "name": "python3"
  },
  "language_info": {
   "codemirror_mode": {
    "name": "ipython",
    "version": 3
   },
   "file_extension": ".py",
   "mimetype": "text/x-python",
   "name": "python",
   "nbconvert_exporter": "python",
   "pygments_lexer": "ipython3",
   "version": "3.11.3"
  }
 },
 "nbformat": 4,
 "nbformat_minor": 2
}
