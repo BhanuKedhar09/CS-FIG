{
 "cells": [
  {
   "cell_type": "code",
   "execution_count": 4,
   "metadata": {},
   "outputs": [],
   "source": [
    "import json\n",
    "from datasets import load_dataset\n"
   ]
  },
  {
   "cell_type": "code",
   "execution_count": 6,
   "metadata": {},
   "outputs": [
    {
     "data": {
      "application/vnd.jupyter.widget-view+json": {
       "model_id": "5fadc1d7221e48c6ac268e4a1b952ff5",
       "version_major": 2,
       "version_minor": 0
      },
      "text/plain": [
       "Filter:   0%|          | 0/2450893 [00:00<?, ? examples/s]"
      ]
     },
     "metadata": {},
     "output_type": "display_data"
    }
   ],
   "source": [
    "archive_data = load_dataset(\"json\", data_files=\"/lstr/sahara/datalab-ml/z1974769/arxiv-metadata-oai-snapshot.json\")\n",
    "# cs_data_after_2015 = archive_data.filter(lambda data_point: \"cs.\" in data_point[\"categories\"] and data_point[\"update_date\"].year >=2015)\n",
    "\n",
    "def is_cs_and_year_2015_or_later(data_point):\n",
    "    if \"cs.\" in data_point[\"categories\"]:\n",
    "        try:\n",
    "            year_prefix = int(data_point[\"id\"].split(\".\")[0][:2])\n",
    "            # unique_ids.append(data_point[\"id\"])\n",
    "            return year_prefix >= 15\n",
    "        except ValueError:\n",
    "            return False\n",
    "    else:\n",
    "        return False\n",
    "\n",
    "cs_data_after_2015 = archive_data.filter(is_cs_and_year_2015_or_later)\n"
   ]
  },
  {
   "cell_type": "code",
   "execution_count": 9,
   "metadata": {},
   "outputs": [],
   "source": [
    "\n",
    "unique_ids = dict()\n",
    "\n",
    "for paper in cs_data_after_2015[\"train\"]:\n",
    "    if unique_ids.get(int(paper[\"id\"].split(\".\")[0][:2])) is not None:\n",
    "        unique_ids[int(paper[\"id\"].split(\".\")[0][:2])].append(paper[\"id\"])\n",
    "    else :\n",
    "        unique_ids[int(paper[\"id\"].split(\".\")[0][:2])] = [paper[\"id\"]]\n",
    "# cs_data_after_2015\n",
    "    "
   ]
  },
  {
   "cell_type": "code",
   "execution_count": 15,
   "metadata": {},
   "outputs": [
    {
     "data": {
      "text/plain": [
       "True"
      ]
     },
     "execution_count": 15,
     "metadata": {},
     "output_type": "execute_result"
    }
   ],
   "source": [
    "15 in unique_ids"
   ]
  },
  {
   "cell_type": "code",
   "execution_count": 16,
   "metadata": {},
   "outputs": [],
   "source": [
    "import random\n",
    "unique_ids2 = []\n",
    "\n",
    "for year in list(unique_ids.keys()):\n",
    "    if year in unique_ids.keys():\n",
    "        ids_for_year = unique_ids[year]\n",
    "        # Ensure there are at least 100 IDs to choose from, otherwise take as many as available\n",
    "        num_ids_to_select = min(100, len(ids_for_year))\n",
    "        selected_ids = random.sample(ids_for_year, num_ids_to_select)\n",
    "        unique_ids2.extend(selected_ids)"
   ]
  },
  {
   "cell_type": "code",
   "execution_count": 18,
   "metadata": {},
   "outputs": [
    {
     "data": {
      "text/plain": [
       "1000"
      ]
     },
     "execution_count": 18,
     "metadata": {},
     "output_type": "execute_result"
    }
   ],
   "source": []
  },
  {
   "cell_type": "code",
   "execution_count": 1,
   "metadata": {},
   "outputs": [],
   "source": [
    "\n",
    "# import requests\n",
    "# import time\n",
    "# from concurrent.futures import ThreadPoolExecutor\n",
    "# from pathlib import Path\n",
    "\n",
    "# def download_paper(arxiv_id, save_dir):\n",
    "#     try:\n",
    "#         pdf_url = f\"https://arxiv.org/pdf/{arxiv_id}.pdf\"\n",
    "#         response = requests.get(pdf_url, timeout=30, stream=True)\n",
    "#         if response.status_code == 200:\n",
    "#             file_path = Path(save_dir) / f\"{arxiv_id}.pdf\"\n",
    "#             with open(file_path, \"wb\") as f:\n",
    "#                 f.write(response.content)\n",
    "#             print(f\"Downloaded {arxiv_id}\")\n",
    "#         else:\n",
    "#             print(f\"Failed to download {arxiv_id}\")\n",
    "#     except requests.RequestException as e:\n",
    "#         print(f\"Error downloading {arxiv_id}: {e}\")\n",
    "\n",
    "\n",
    "# arxiv_ids = unique_ids\n",
    "# save_directory = \"./cs_papers_after_2015\"\n",
    "\n",
    "\n",
    "# with ThreadPoolExecutor(max_workers=10) as executor:\n",
    "#     futures = [executor.submit(download_paper, arxiv_id, save_directory) for arxiv_id in arxiv_ids]\n",
    "#     for future in futures:\n",
    "#         future.result()\n",
    "\n",
    "# print(\"All downloads completed.\")\n"
   ]
  },
  {
   "cell_type": "code",
   "execution_count": 24,
   "metadata": {},
   "outputs": [],
   "source": [
    "from collections import defaultdict \n",
    "\n",
    "counter = dict()\n",
    "\n",
    "for paper in archive_data[\"train\"]:\n",
    "    if counter.get(paper[\"id\"][0:2]) is not None:\n",
    "        counter[paper[\"id\"][0:2]] += 1\n",
    "    else:\n",
    "        counter[paper[\"id\"][0:2]] = 1"
   ]
  },
  {
   "cell_type": "code",
   "execution_count": 25,
   "metadata": {},
   "outputs": [
    {
     "data": {
      "text/plain": [
       "{'07': 42328,\n",
       " '08': 58915,\n",
       " '09': 64046,\n",
       " '10': 70125,\n",
       " '11': 76574,\n",
       " '12': 84603,\n",
       " '13': 92641,\n",
       " '14': 97517,\n",
       " '15': 105280,\n",
       " '16': 113380,\n",
       " '17': 123523,\n",
       " '18': 140616,\n",
       " '19': 155866,\n",
       " '20': 178329,\n",
       " '21': 181630,\n",
       " '22': 185692,\n",
       " '23': 208492,\n",
       " '24': 57218,\n",
       " 'ac': 46,\n",
       " 'ad': 306,\n",
       " 'al': 1209,\n",
       " 'ao': 13,\n",
       " 'as': 76435,\n",
       " 'at': 68,\n",
       " 'ba': 11,\n",
       " 'ch': 1899,\n",
       " 'cm': 894,\n",
       " 'co': 79305,\n",
       " 'cs': 7149,\n",
       " 'dg': 562,\n",
       " 'fu': 320,\n",
       " 'gr': 16894,\n",
       " 'he': 111009,\n",
       " 'ma': 55502,\n",
       " 'mt': 165,\n",
       " 'nl': 5351,\n",
       " 'nu': 15425,\n",
       " 'pa': 452,\n",
       " 'ph': 15946,\n",
       " 'pl': 28,\n",
       " 'q-': 3165,\n",
       " 'qu': 21051,\n",
       " 'so': 844,\n",
       " 'su': 69}"
      ]
     },
     "execution_count": 25,
     "metadata": {},
     "output_type": "execute_result"
    }
   ],
   "source": [
    "counter"
   ]
  },
  {
   "cell_type": "code",
   "execution_count": 26,
   "metadata": {},
   "outputs": [
    {
     "data": {
      "application/vnd.jupyter.widget-view+json": {
       "model_id": "de1dd16f9a2a4d06b97928de56c03f49",
       "version_major": 2,
       "version_minor": 0
      },
      "text/plain": [
       "Filter:   0%|          | 0/2450893 [00:00<?, ? examples/s]"
      ]
     },
     "metadata": {},
     "output_type": "display_data"
    }
   ],
   "source": [
    "# cs_data_after_2015x = archive_data.filter(lambda data_point: \"cs.\" in data_point[\"categories\"] and int(data_point[\"id\"][0:2]) >= 15)\n",
    "\n",
    "def is_cs_and_year_2015_or_later(data_point):\n",
    "    # Check if 'categories' contains 'cs.' and if the ID follows the expected format\n",
    "    if \"cs.\" in data_point[\"categories\"]:\n",
    "        try:\n",
    "            # Attempt to convert the first two characters of the 'id' into an integer\n",
    "            year_prefix = int(data_point[\"id\"].split(\".\")[0][:2])\n",
    "            # If the conversion is successful and the year is 15 or later, return True\n",
    "            return year_prefix >= 15\n",
    "        except ValueError:\n",
    "            # If there is a ValueError during the conversion, it means the 'id' does not start\n",
    "            # with a two-digit year and should be ignored\n",
    "            return False\n",
    "    else:\n",
    "        # If 'categories' does not contain 'cs.', the entry is ignored\n",
    "        return False\n",
    "\n",
    "# Apply the filter to the archive_data\n",
    "cs_data_after_2015 = archive_data.filter(is_cs_and_year_2015_or_later)\n"
   ]
  },
  {
   "cell_type": "code",
   "execution_count": 27,
   "metadata": {},
   "outputs": [
    {
     "data": {
      "text/plain": [
       "DatasetDict({\n",
       "    train: Dataset({\n",
       "        features: ['id', 'submitter', 'authors', 'title', 'comments', 'journal-ref', 'doi', 'report-no', 'categories', 'license', 'abstract', 'versions', 'update_date', 'authors_parsed'],\n",
       "        num_rows: 680414\n",
       "    })\n",
       "})"
      ]
     },
     "execution_count": 27,
     "metadata": {},
     "output_type": "execute_result"
    }
   ],
   "source": [
    "cs_data_after_2015"
   ]
  },
  {
   "cell_type": "code",
   "execution_count": 28,
   "metadata": {},
   "outputs": [],
   "source": [
    "s = set([1,2,3,4,5])"
   ]
  },
  {
   "cell_type": "code",
   "execution_count": 31,
   "metadata": {},
   "outputs": [
    {
     "data": {
      "text/plain": [
       "[1, 2, 3]"
      ]
     },
     "execution_count": 31,
     "metadata": {},
     "output_type": "execute_result"
    }
   ],
   "source": [
    "list(s)[0:3]"
   ]
  },
  {
   "cell_type": "code",
   "execution_count": 1,
   "metadata": {},
   "outputs": [],
   "source": [
    "from urllib3.util import Retry\n"
   ]
  },
  {
   "cell_type": "code",
   "execution_count": 2,
   "metadata": {},
   "outputs": [
    {
     "ename": "NameError",
     "evalue": "name 'unique_ids' is not defined",
     "output_type": "error",
     "traceback": [
      "\u001b[0;31m---------------------------------------------------------------------------\u001b[0m",
      "\u001b[0;31mNameError\u001b[0m                                 Traceback (most recent call last)",
      "Cell \u001b[0;32mIn[2], line 1\u001b[0m\n\u001b[0;32m----> 1\u001b[0m \u001b[43munique_ids\u001b[49m\n",
      "\u001b[0;31mNameError\u001b[0m: name 'unique_ids' is not defined"
     ]
    }
   ],
   "source": [
    "unique_ids"
   ]
  },
  {
   "cell_type": "code",
   "execution_count": null,
   "metadata": {},
   "outputs": [],
   "source": []
  }
 ],
 "metadata": {
  "kernelspec": {
   "display_name": "condavisionenv",
   "language": "python",
   "name": "python3"
  },
  "language_info": {
   "codemirror_mode": {
    "name": "ipython",
    "version": 3
   },
   "file_extension": ".py",
   "mimetype": "text/x-python",
   "name": "python",
   "nbconvert_exporter": "python",
   "pygments_lexer": "ipython3",
   "version": "3.11.3"
  }
 },
 "nbformat": 4,
 "nbformat_minor": 2
}
